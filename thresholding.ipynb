{
 "cells": [
  {
   "cell_type": "code",
   "execution_count": null,
   "metadata": {},
   "outputs": [],
   "source": [
    "import numpy as np\n",
    "import xarray as xr\n",
    "import matplotlib.pyplot as plt\n",
    "\n",
    "\n",
    "ds_2 = xr.open_dataset(\"data/regions_verify_202104_cov.nc\")\n",
    "bio_2 = ds_2[\"covariance_bio\"]\n",
    "anth_2 = ds_2[\"covariance_anth\"]\n",
    "\n",
    "M = bio_2\n",
    "#Need to figure out a sensible way of determining the threshold (data-driven?)\n",
    "thresh = 10**(-7)\n",
    "\n",
    "\n",
    "M0 = np.where(abs(M) < thresh, 0, M)\n",
    "M0 = xr.DataArray(M0)\n",
    "M0_binary = np.where(M0 != 0, 1, M0)\n",
    "M0_binary = xr.DataArray(M0_binary)\n",
    "\n",
    "\n",
    "\n",
    "# fig, ax = plt.subplots(layout = 'constrained')\n",
    "# M.plot.pcolormesh(yincrease = False, robust = True)\n",
    "\n",
    "\n",
    "# fig, ax = plt.subplots(layout = 'constrained')\n",
    "# M0.plot.pcolormesh(yincrease = False, robust = True)\n",
    "\n",
    "fig, ax = plt.subplots(layout= 'constrained')\n",
    "M0_binary.plot.pcolormesh(yincrease = False)\n",
    "plt.show()\n",
    "\n",
    "\n"
   ]
  }
 ],
 "metadata": {
  "language_info": {
   "name": "python"
  },
  "orig_nbformat": 4
 },
 "nbformat": 4,
 "nbformat_minor": 2
}
