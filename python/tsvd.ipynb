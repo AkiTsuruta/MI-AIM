{
 "cells": [
  {
   "attachments": {},
   "cell_type": "markdown",
   "metadata": {},
   "source": [
    "TSVD tests with available Python functions\n",
    "------------------------------------------"
   ]
  },
  {
   "attachments": {},
   "cell_type": "markdown",
   "metadata": {},
   "source": [
    "- scipy.sparse.linalg.svds seems to be very slow with numpy matrix & default parameters\n",
    "- faster when matrix as linear operator, but still e.g. svds with whole bio_2, k = 500, takes 42 seconds\n",
    "- Could the matrix be read from file as linear operator?\n"
   ]
  },
  {
   "cell_type": "code",
   "execution_count": 16,
   "metadata": {},
   "outputs": [],
   "source": [
    "import numpy as np\n",
    "import xarray as xr\n",
    "import matplotlib.pyplot as plt\n",
    "\n",
    "\n",
    "ds_1 = xr.open_dataset(\"data/regions_verify_isotope_202112_cov.nc\")\n",
    "bio_1 = ds_1[\"covariance_bio\"]\n",
    "anth_1 = ds_1[\"covariance_anth\"]\n",
    "\n",
    "ds_2 = xr.open_dataset(\"data/regions_verify_202104_cov.nc\")\n",
    "bio_2 = ds_2[\"covariance_bio\"]\n",
    "anth_2 = ds_2[\"covariance_anth\"]\n",
    "\n",
    "M = bio_2.values\n",
    "\n",
    "\n",
    "from scipy.sparse.linalg import svds\n",
    "from scipy.sparse.linalg import aslinearoperator"
   ]
  },
  {
   "cell_type": "code",
   "execution_count": 17,
   "metadata": {},
   "outputs": [],
   "source": [
    "M = aslinearoperator(M)"
   ]
  },
  {
   "cell_type": "code",
   "execution_count": 19,
   "metadata": {},
   "outputs": [],
   "source": [
    "u2, s2, vT2 = svds(M, k=500)"
   ]
  },
  {
   "cell_type": "code",
   "execution_count": null,
   "metadata": {},
   "outputs": [],
   "source": []
  }
 ],
 "metadata": {
  "kernelspec": {
   "display_name": "Python 3",
   "language": "python",
   "name": "python3"
  },
  "language_info": {
   "codemirror_mode": {
    "name": "ipython",
    "version": 3
   },
   "file_extension": ".py",
   "mimetype": "text/x-python",
   "name": "python",
   "nbconvert_exporter": "python",
   "pygments_lexer": "ipython3",
   "version": "3.10.6"
  },
  "orig_nbformat": 4,
  "vscode": {
   "interpreter": {
    "hash": "916dbcbb3f70747c44a77c7bcd40155683ae19c65e1c03b4aa3499c5328201f1"
   }
  }
 },
 "nbformat": 4,
 "nbformat_minor": 2
}
