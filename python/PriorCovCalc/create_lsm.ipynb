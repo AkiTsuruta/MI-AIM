{
 "cells": [
  {
   "cell_type": "code",
   "execution_count": 49,
   "metadata": {},
   "outputs": [],
   "source": [
    "from datetime import datetime\n",
    "import xarray as xr\n",
    "import numpy as np\n",
    "from global_land_mask import globe\n",
    "import os\n",
    "\n",
    "def create_lsm(latmin, latmax, lonmin, lonmax):\n",
    "     \"\"\"Creates a land-sea mask (land=1, sea=0) in 0.1 deg x 0.1 deg resolution\n",
    "     for the chosen area.\n",
    "     \"\"\"\n",
    "     lat = np.linspace(latmin,latmax, (latmax-latmin)*10+1, dtype = np.float32)\n",
    "     lon = np.linspace(lonmin,lonmax, (lonmax - lonmin)*10+1, dtype = np.float32)\n",
    "     longrid, latgrid = np.meshgrid(lon,lat)\n",
    "     lsm = globe.is_land(latgrid, longrid)\n",
    "   \n",
    "     return lsm, latgrid, longrid\n",
    "\n",
    "\n",
    "\n",
    "\n"
   ]
  },
  {
   "cell_type": "code",
   "execution_count": 51,
   "metadata": {},
   "outputs": [],
   "source": [
    "\n",
    "#output \n",
    "#OUTPUT_PATH = '/home/pietaril/Documents/data/unc_cov_matrices'\n",
    "OUTPUT_PATH = '/scratch/project_462000459/maija/data/masks'\n",
    "\n",
    "\n",
    "latmin = 30\n",
    "latmax = 35\n",
    "lonmin = -10\n",
    "lonmax = 0\n",
    "\n",
    "# latmin = 30.0\n",
    "# latmax = 75.0\n",
    "# lonmin = -15.0\n",
    "# lonmax = 40.0\n",
    "\n",
    "#fname = f\"lsm_lat{latmin}_{latmax}_lon{lonmin}_{lonmax}\"\n",
    "\n",
    "\n",
    "lsm, latgrid, longrid = create_lsm(latmin, latmax, lonmin, lonmax)"
   ]
  },
  {
   "cell_type": "code",
   "execution_count": 52,
   "metadata": {},
   "outputs": [
    {
     "data": {
      "text/plain": [
       "array([[False, False, False, ...,  True,  True,  True],\n",
       "       [False, False, False, ...,  True,  True,  True],\n",
       "       [False, False, False, ...,  True,  True,  True],\n",
       "       ...,\n",
       "       [False, False, False, ...,  True,  True,  True],\n",
       "       [False, False, False, ...,  True,  True,  True],\n",
       "       [False, False, False, ...,  True,  True,  True]])"
      ]
     },
     "execution_count": 52,
     "metadata": {},
     "output_type": "execute_result"
    }
   ],
   "source": [
    "lsm"
   ]
  },
  {
   "cell_type": "markdown",
   "metadata": {},
   "source": [
    "See if we can use np.ogrid as Laia does\n"
   ]
  },
  {
   "cell_type": "code",
   "execution_count": 43,
   "metadata": {},
   "outputs": [
    {
     "ename": "SyntaxError",
     "evalue": "invalid syntax. Maybe you meant '==' or ':=' instead of '='? (2332232323.py, line 3)",
     "output_type": "error",
     "traceback": [
      "\u001b[0;36m  Cell \u001b[0;32mIn [43], line 3\u001b[0;36m\u001b[0m\n\u001b[0;31m    grid_xy = np.ogrid[lonmin:lonmax+res:res, latmin:latmax+res:res, dtype=float32]\u001b[0m\n\u001b[0m                                                                     ^\u001b[0m\n\u001b[0;31mSyntaxError\u001b[0m\u001b[0;31m:\u001b[0m invalid syntax. Maybe you meant '==' or ':=' instead of '='?\n"
     ]
    }
   ],
   "source": [
    "# create a grid of coordinates\n",
    "res = 0.1\n",
    "grid_xy = np.ogrid[lonmin:lonmax+res:res, latmin:latmax+res:res]\n",
    "grid_x, grid_y = grid_xy[0].reshape(1,-1)[0], grid_xy[1][0]\n",
    "coords = np.array([(i,j) for i in grid_x for j in grid_y])\n",
    "lon, lat = coords[:,0], coords[:,1]\n"
   ]
  },
  {
   "cell_type": "code",
   "execution_count": 35,
   "metadata": {},
   "outputs": [
    {
     "data": {
      "text/plain": [
       "(5252,)"
      ]
     },
     "execution_count": 35,
     "metadata": {},
     "output_type": "execute_result"
    }
   ],
   "source": [
    "lon.shape"
   ]
  },
  {
   "cell_type": "code",
   "execution_count": 36,
   "metadata": {},
   "outputs": [
    {
     "data": {
      "text/plain": [
       "(101,)"
      ]
     },
     "execution_count": 36,
     "metadata": {},
     "output_type": "execute_result"
    }
   ],
   "source": [
    "grid_x.shape"
   ]
  },
  {
   "cell_type": "code",
   "execution_count": 24,
   "metadata": {},
   "outputs": [
    {
     "data": {
      "text/plain": [
       "(100,)"
      ]
     },
     "execution_count": 24,
     "metadata": {},
     "output_type": "execute_result"
    }
   ],
   "source": [
    "grid_y.shape"
   ]
  },
  {
   "cell_type": "code",
   "execution_count": 41,
   "metadata": {},
   "outputs": [
    {
     "data": {
      "text/plain": [
       "[array([[30. , 30.1, 30.2, ..., 34.9, 35. , 35.1],\n",
       "        [30. , 30.1, 30.2, ..., 34.9, 35. , 35.1],\n",
       "        [30. , 30.1, 30.2, ..., 34.9, 35. , 35.1],\n",
       "        ...,\n",
       "        [30. , 30.1, 30.2, ..., 34.9, 35. , 35.1],\n",
       "        [30. , 30.1, 30.2, ..., 34.9, 35. , 35.1],\n",
       "        [30. , 30.1, 30.2, ..., 34.9, 35. , 35.1]]),\n",
       " array([[-10. , -10. , -10. , ..., -10. , -10. , -10. ],\n",
       "        [ -9.9,  -9.9,  -9.9, ...,  -9.9,  -9.9,  -9.9],\n",
       "        [ -9.8,  -9.8,  -9.8, ...,  -9.8,  -9.8,  -9.8],\n",
       "        ...,\n",
       "        [ -0.2,  -0.2,  -0.2, ...,  -0.2,  -0.2,  -0.2],\n",
       "        [ -0.1,  -0.1,  -0.1, ...,  -0.1,  -0.1,  -0.1],\n",
       "        [  0. ,   0. ,   0. , ...,   0. ,   0. ,   0. ]])]"
      ]
     },
     "execution_count": 41,
     "metadata": {},
     "output_type": "execute_result"
    }
   ],
   "source": [
    "np.meshgrid(grid_y, grid_x)"
   ]
  },
  {
   "cell_type": "code",
   "execution_count": 38,
   "metadata": {},
   "outputs": [
    {
     "data": {
      "text/plain": [
       "array([False, False, False, ...,  True,  True,  True])"
      ]
     },
     "execution_count": 38,
     "metadata": {},
     "output_type": "execute_result"
    }
   ],
   "source": [
    "globe.is_land(lat, lon)"
   ]
  },
  {
   "cell_type": "code",
   "execution_count": 47,
   "metadata": {},
   "outputs": [
    {
     "data": {
      "text/plain": [
       "array([-10. ,  -9.9,  -9.8,  -9.7,  -9.6,  -9.5,  -9.4,  -9.3,  -9.2,\n",
       "        -9.1,  -9. ,  -8.9,  -8.8,  -8.7,  -8.6,  -8.5,  -8.4,  -8.3,\n",
       "        -8.2,  -8.1,  -8. ,  -7.9,  -7.8,  -7.7,  -7.6,  -7.5,  -7.4,\n",
       "        -7.3,  -7.2,  -7.1,  -7. ,  -6.9,  -6.8,  -6.7,  -6.6,  -6.5,\n",
       "        -6.4,  -6.3,  -6.2,  -6.1,  -6. ,  -5.9,  -5.8,  -5.7,  -5.6,\n",
       "        -5.5,  -5.4,  -5.3,  -5.2,  -5.1,  -5. ,  -4.9,  -4.8,  -4.7,\n",
       "        -4.6,  -4.5,  -4.4,  -4.3,  -4.2,  -4.1,  -4. ,  -3.9,  -3.8,\n",
       "        -3.7,  -3.6,  -3.5,  -3.4,  -3.3,  -3.2,  -3.1,  -3. ,  -2.9,\n",
       "        -2.8,  -2.7,  -2.6,  -2.5,  -2.4,  -2.3,  -2.2,  -2.1,  -2. ,\n",
       "        -1.9,  -1.8,  -1.7,  -1.6,  -1.5,  -1.4,  -1.3,  -1.2,  -1.1,\n",
       "        -1. ,  -0.9,  -0.8,  -0.7,  -0.6,  -0.5,  -0.4,  -0.3,  -0.2,\n",
       "        -0.1,   0. ], dtype=float32)"
      ]
     },
     "execution_count": 47,
     "metadata": {},
     "output_type": "execute_result"
    }
   ],
   "source": [
    "lat2 = np.linspace(latmin,latmax, (latmax-latmin)*10+1, dtype = np.float32)\n",
    "lon2 = np.linspace(lonmin,lonmax, (lonmax - lonmin)*10+1, dtype = np.float32)\n",
    "lat2\n",
    "lon2"
   ]
  },
  {
   "cell_type": "code",
   "execution_count": 48,
   "metadata": {},
   "outputs": [
    {
     "data": {
      "text/plain": [
       "[array([[30. , 30.1, 30.2, ..., 34.8, 34.9, 35. ],\n",
       "        [30. , 30.1, 30.2, ..., 34.8, 34.9, 35. ],\n",
       "        [30. , 30.1, 30.2, ..., 34.8, 34.9, 35. ],\n",
       "        ...,\n",
       "        [30. , 30.1, 30.2, ..., 34.8, 34.9, 35. ],\n",
       "        [30. , 30.1, 30.2, ..., 34.8, 34.9, 35. ],\n",
       "        [30. , 30.1, 30.2, ..., 34.8, 34.9, 35. ]], dtype=float32),\n",
       " array([[-10. , -10. , -10. , ..., -10. , -10. , -10. ],\n",
       "        [ -9.9,  -9.9,  -9.9, ...,  -9.9,  -9.9,  -9.9],\n",
       "        [ -9.8,  -9.8,  -9.8, ...,  -9.8,  -9.8,  -9.8],\n",
       "        ...,\n",
       "        [ -0.2,  -0.2,  -0.2, ...,  -0.2,  -0.2,  -0.2],\n",
       "        [ -0.1,  -0.1,  -0.1, ...,  -0.1,  -0.1,  -0.1],\n",
       "        [  0. ,   0. ,   0. , ...,   0. ,   0. ,   0. ]], dtype=float32)]"
      ]
     },
     "execution_count": 48,
     "metadata": {},
     "output_type": "execute_result"
    }
   ],
   "source": [
    "np.meshgrid(lat2, lon2)"
   ]
  }
 ],
 "metadata": {
  "kernelspec": {
   "display_name": "Python 3",
   "language": "python",
   "name": "python3"
  },
  "language_info": {
   "codemirror_mode": {
    "name": "ipython",
    "version": 3
   },
   "file_extension": ".py",
   "mimetype": "text/x-python",
   "name": "python",
   "nbconvert_exporter": "python",
   "pygments_lexer": "ipython3",
   "version": "3.10.12"
  }
 },
 "nbformat": 4,
 "nbformat_minor": 2
}
