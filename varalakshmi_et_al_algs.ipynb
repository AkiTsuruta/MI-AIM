{
 "cells": [
  {
   "cell_type": "markdown",
   "metadata": {},
   "source": [
    "Algorithms from Varalakshmi et al 2018 translated from C++/Cuda to Python\n",
    "\n",
    "Dimensions used in the article are here denoted as\n",
    "n = fullsize\n",
    "m = size\n",
    "k = blocksize,\n",
    "where n > m > k.\n",
    "\n"
   ]
  },
  {
   "cell_type": "code",
   "execution_count": null,
   "metadata": {},
   "outputs": [],
   "source": [
    "def partition(M, n, m):\n",
    "    \"\"\"Read square matrix M (dimension n*n) into (n/m)*(n/m) separate sub-matrices\n",
    "    of dimension m*m\"\"\"\n",
    "    quot = n/m\n",
    "    repeat = quot*quot\n",
    "    for r in range(repeat):\n",
    "        quot1 = r/quot\n",
    "        rem = r%quot\n",
    "        ###jotain josta en saa selvää\n",
    "        for i in range(m):\n",
    "            for j in range(m):\n",
    "\n"
   ]
  }
 ],
 "metadata": {
  "language_info": {
   "name": "python"
  },
  "orig_nbformat": 4
 },
 "nbformat": 4,
 "nbformat_minor": 2
}
