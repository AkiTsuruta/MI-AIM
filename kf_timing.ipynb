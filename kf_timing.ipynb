{
 "cells": [
  {
   "cell_type": "code",
   "execution_count": 7,
   "metadata": {},
   "outputs": [
    {
     "name": "stdout",
     "output_type": "stream",
     "text": [
      "Kf execution time: 0.007240811700012273\n"
     ]
    },
    {
     "ename": "TypeError",
     "evalue": "unsupported operand type(s) for /: 'list' and 'int'",
     "output_type": "error",
     "traceback": [
      "\u001b[0;31m---------------------------------------------------------------------------\u001b[0m",
      "\u001b[0;31mTypeError\u001b[0m                                 Traceback (most recent call last)",
      "\u001b[1;32m/home/pietaril/Matrix_Inv/MI-AIM/kf_timing.ipynb Cell 1\u001b[0m in \u001b[0;36m<cell line: 59>\u001b[0;34m()\u001b[0m\n\u001b[1;32m     <a href='vscode-notebook-cell:/home/pietaril/Matrix_Inv/MI-AIM/kf_timing.ipynb#W2sZmlsZQ%3D%3D?line=56'>57</a>\u001b[0m time \u001b[39m=\u001b[39m \u001b[39mmin\u001b[39m(times)\u001b[39m/\u001b[39mnum\n\u001b[1;32m     <a href='vscode-notebook-cell:/home/pietaril/Matrix_Inv/MI-AIM/kf_timing.ipynb#W2sZmlsZQ%3D%3D?line=57'>58</a>\u001b[0m \u001b[39mprint\u001b[39m(\u001b[39mf\u001b[39m\u001b[39m'\u001b[39m\u001b[39mKf execution time: \u001b[39m\u001b[39m{\u001b[39;00mtime\u001b[39m}\u001b[39;00m\u001b[39m'\u001b[39m)\n\u001b[0;32m---> <a href='vscode-notebook-cell:/home/pietaril/Matrix_Inv/MI-AIM/kf_timing.ipynb#W2sZmlsZQ%3D%3D?line=58'>59</a>\u001b[0m times \u001b[39m=\u001b[39m times\u001b[39m/\u001b[39;49mnum\n",
      "\u001b[0;31mTypeError\u001b[0m: unsupported operand type(s) for /: 'list' and 'int'"
     ]
    }
   ],
   "source": [
    "import timeit\n",
    "\n",
    "SETUP_CODE = '''\n",
    "import numpy as np\n",
    "import xarray as xr\n",
    "from copy import deepcopy\n",
    "from blockinv_iterative import block_inv\n",
    "from kf_playground import initialize_state, initialize_obs, optimize, predict\n",
    "\n",
    "nstate = None   # number of states\n",
    "nobs = None  # number of observations for the whole time\n",
    "                \n",
    "x_mu = None    # state mean values\n",
    "y_mu = None # observation mean values\n",
    "x_std = None # state uncertainty\n",
    "y_std = None  # obs. uncertainty\n",
    "\n",
    "\n",
    "invm = np.linalg.inv\n",
    "tw =  10\n",
    "useKG = True\n",
    "i = 1\n",
    "\n",
    "fname = f\"simulated_data/simulation_{i:02d}/s{i:02d}_init.nc\" # path to input file\n",
    "'''\n",
    "\n",
    "            \n",
    "TEST_CODE = '''\n",
    "xb, B, nstate = initialize_state(nstate, x_mu, x_std, filename=fname)\n",
    "t, y, R, nobs = initialize_obs(nobs, y_mu, y_std, filename=fname)\n",
    "\n",
    "H = np.ones((nobs,nstate))*1800 # dummy observation operator\n",
    "\n",
    "for timestep in range( int(len(t)/tw) ): #Loop through time\n",
    "    #Select observational data for this time \n",
    "    w = np.where((t>=timestep*tw)&(t<timestep*tw+tw))[0]\n",
    "    y_t = y[w]\n",
    "    R_t = R[w,:][:,w] \n",
    "    H_t= H[w,:]\n",
    "\n",
    "    # Optimize\n",
    "    xa, A, diff = optimize(useKG, xb, B, y_t, H_t, R_t)\n",
    "\n",
    "    # The updated state is prior for next state\n",
    "    xb, B = predict(xa,A)\n",
    "'''\n",
    "\n",
    "rep = 7\n",
    "num = 10   \n",
    "# timeit.repeat statement\n",
    "times = timeit.repeat(stmt = TEST_CODE,\n",
    "                            setup = SETUP_CODE,\n",
    "                            repeat = rep,\n",
    "                            number = num)\n",
    "    \n",
    "# printing minimum exec. time\n",
    "time = min(times)/num\n",
    "print(f'Kf execution time: {time}')\n"
   ]
  },
  {
   "cell_type": "code",
   "execution_count": 12,
   "metadata": {},
   "outputs": [
    {
     "ename": "ValueError",
     "evalue": "too many values to unpack (expected 2)",
     "output_type": "error",
     "traceback": [
      "\u001b[0;31m---------------------------------------------------------------------------\u001b[0m",
      "\u001b[0;31mValueError\u001b[0m                                Traceback (most recent call last)",
      "\u001b[1;32m/home/pietaril/Matrix_Inv/MI-AIM/kf_timing.ipynb Cell 1\u001b[0m in \u001b[0;36m<cell line: 14>\u001b[0;34m()\u001b[0m\n\u001b[1;32m     <a href='vscode-notebook-cell:/home/pietaril/Matrix_Inv/MI-AIM/kf_timing.ipynb#W0sZmlsZQ%3D%3D?line=11'>12</a>\u001b[0m functions \u001b[39m=\u001b[39m {\u001b[39m'\u001b[39m\u001b[39mnp.linalg.inv\u001b[39m\u001b[39m'\u001b[39m: np\u001b[39m.\u001b[39mlinalg\u001b[39m.\u001b[39minv, \u001b[39m'\u001b[39m\u001b[39mblock_inv\u001b[39m\u001b[39m'\u001b[39m:block_inv}\n\u001b[1;32m     <a href='vscode-notebook-cell:/home/pietaril/Matrix_Inv/MI-AIM/kf_timing.ipynb#W0sZmlsZQ%3D%3D?line=13'>14</a>\u001b[0m \u001b[39mfor\u001b[39;00m i \u001b[39min\u001b[39;00m [\u001b[39m1\u001b[39m,\u001b[39m2\u001b[39m,\u001b[39m3\u001b[39m]:\n\u001b[0;32m---> <a href='vscode-notebook-cell:/home/pietaril/Matrix_Inv/MI-AIM/kf_timing.ipynb#W0sZmlsZQ%3D%3D?line=14'>15</a>\u001b[0m     \u001b[39mfor\u001b[39;00m key, value \u001b[39min\u001b[39;00m functions:\n\u001b[1;32m     <a href='vscode-notebook-cell:/home/pietaril/Matrix_Inv/MI-AIM/kf_timing.ipynb#W0sZmlsZQ%3D%3D?line=20'>21</a>\u001b[0m         SETUP_CODE \u001b[39m=\u001b[39m \u001b[39mf\u001b[39m\u001b[39m'''\u001b[39m\n\u001b[1;32m     <a href='vscode-notebook-cell:/home/pietaril/Matrix_Inv/MI-AIM/kf_timing.ipynb#W0sZmlsZQ%3D%3D?line=21'>22</a>\u001b[0m \u001b[39mimport numpy as np\u001b[39m\n\u001b[1;32m     <a href='vscode-notebook-cell:/home/pietaril/Matrix_Inv/MI-AIM/kf_timing.ipynb#W0sZmlsZQ%3D%3D?line=22'>23</a>\u001b[0m \u001b[39mimport xarray as xr\u001b[39m\n\u001b[0;32m   (...)\u001b[0m\n\u001b[1;32m     <a href='vscode-notebook-cell:/home/pietaril/Matrix_Inv/MI-AIM/kf_timing.ipynb#W0sZmlsZQ%3D%3D?line=41'>42</a>\u001b[0m \n\u001b[1;32m     <a href='vscode-notebook-cell:/home/pietaril/Matrix_Inv/MI-AIM/kf_timing.ipynb#W0sZmlsZQ%3D%3D?line=42'>43</a>\u001b[0m \u001b[39m        \u001b[39m\u001b[39m'''\u001b[39m\n\u001b[1;32m     <a href='vscode-notebook-cell:/home/pietaril/Matrix_Inv/MI-AIM/kf_timing.ipynb#W0sZmlsZQ%3D%3D?line=44'>45</a>\u001b[0m         TEST_CODE \u001b[39m=\u001b[39m \u001b[39m'''\u001b[39m\n\u001b[1;32m     <a href='vscode-notebook-cell:/home/pietaril/Matrix_Inv/MI-AIM/kf_timing.ipynb#W0sZmlsZQ%3D%3D?line=45'>46</a>\u001b[0m \u001b[39mxb, B, nstate = initialize_state(nstate, x_mu, x_std, filename=fname)\u001b[39m\n\u001b[1;32m     <a href='vscode-notebook-cell:/home/pietaril/Matrix_Inv/MI-AIM/kf_timing.ipynb#W0sZmlsZQ%3D%3D?line=46'>47</a>\u001b[0m \u001b[39mt, y, R, nobs = initialize_obs(nobs, y_mu, y_std, filename=fname)\u001b[39m\n\u001b[0;32m   (...)\u001b[0m\n\u001b[1;32m     <a href='vscode-notebook-cell:/home/pietaril/Matrix_Inv/MI-AIM/kf_timing.ipynb#W0sZmlsZQ%3D%3D?line=63'>64</a>\u001b[0m \n\u001b[1;32m     <a href='vscode-notebook-cell:/home/pietaril/Matrix_Inv/MI-AIM/kf_timing.ipynb#W0sZmlsZQ%3D%3D?line=64'>65</a>\u001b[0m \u001b[39m        \u001b[39m\u001b[39m'''\u001b[39m\n",
      "\u001b[0;31mValueError\u001b[0m: too many values to unpack (expected 2)"
     ]
    }
   ],
   "source": [
    "# importing the required modules for providing different setups for the timer\n",
    "import timeit\n",
    "import numpy as np\n",
    "import xarray as xr\n",
    "from blockinv_iterative import block_inv\n",
    "\n",
    "\n",
    "block_times = []\n",
    "np_times = []\n",
    "val_tw = 10 # length of time window\n",
    "val_useKG = \"True\"\n",
    "functions = {'np.linalg.inv': np.linalg.inv, 'block_inv':block_inv}\n",
    "\n",
    "for i in [1,2,3]:\n",
    "    for key, value in functions:\n",
    "\n",
    "\n",
    "\n",
    "\n",
    "\n",
    "        SETUP_CODE = f'''\n",
    "import numpy as np\n",
    "import xarray as xr\n",
    "from copy import deepcopy\n",
    "from blockinv_iterative import block_inv\n",
    "from kf_playground import initialize_state, initialize_obs, optimize, predict\n",
    "\n",
    "nstate = None   # number of states\n",
    "nobs = None  # number of observations for the whole time\n",
    "                \n",
    "x_mu = None    # state mean values\n",
    "y_mu = None # observation mean values\n",
    "x_std = None # state uncertainty\n",
    "y_std = None  # obs. uncertainty\n",
    "\n",
    "\n",
    "invm = {value}\n",
    "tw =  {val_tw}\n",
    "useKG = {val_useKG}\n",
    "\n",
    "fname = f\"simulated_data/simulation_{i:02d}/s{i:02d}_init.nc\" # path to input file\n",
    "\n",
    "        '''\n",
    "            \n",
    "        TEST_CODE = '''\n",
    "xb, B, nstate = initialize_state(nstate, x_mu, x_std, filename=fname)\n",
    "t, y, R, nobs = initialize_obs(nobs, y_mu, y_std, filename=fname)\n",
    "\n",
    "H = np.ones((nobs,nstate))*1800 # dummy observation operator\n",
    "\n",
    "for timestep in range( int(len(t)/tw) ): #Loop through time\n",
    "    #Select observational data for this time \n",
    "    w = np.where((t>=timestep*tw)&(t<timestep*tw+tw))[0]\n",
    "    y_t = y[w]\n",
    "    R_t = R[w,:][:,w] \n",
    "    H_t= H[w,:]\n",
    "\n",
    "    # Optimize\n",
    "    xa, A, diff = optimize(useKG, xb, B, y_t, H_t, R_t)\n",
    "\n",
    "    # The updated state is prior for next state\n",
    "    xb, B = predict(xa,A)\n",
    "\n",
    "\n",
    "        '''\n",
    "        rep = 7\n",
    "        num = 10   \n",
    "        # timeit.repeat statement\n",
    "        times = timeit.repeat(setup = SETUP_CODE,\n",
    "                                    stmt = TEST_CODE,\n",
    "                                    repeat = rep,\n",
    "                                    number = num)\n",
    "            \n",
    "        # printing minimum exec. time\n",
    "        time = {min(times)/num}\n",
    "        print(f'Kf execution time: {time}')\n",
    "        block_times = []\n",
    "        np_times = []\n",
    "        if val_invm.__name__ == block_inv:\n",
    "            block_times.append(time)\n",
    "        else:\n",
    "            np_times.append(time)\n",
    "\n"
   ]
  },
  {
   "cell_type": "code",
   "execution_count": 18,
   "metadata": {},
   "outputs": [
    {
     "ename": "NameError",
     "evalue": "name 'invm' is not defined",
     "output_type": "error",
     "traceback": [
      "\u001b[0;31m---------------------------------------------------------------------------\u001b[0m",
      "\u001b[0;31mNameError\u001b[0m                                 Traceback (most recent call last)",
      "\u001b[1;32m/home/pietaril/Matrix_Inv/MI-AIM/kf_timing.ipynb Cell 2\u001b[0m in \u001b[0;36m<cell line: 51>\u001b[0;34m()\u001b[0m\n\u001b[1;32m     <a href='vscode-notebook-cell:/home/pietaril/Matrix_Inv/MI-AIM/kf_timing.ipynb#W1sZmlsZQ%3D%3D?line=48'>49</a>\u001b[0m num \u001b[39m=\u001b[39m \u001b[39m10\u001b[39m   \n\u001b[1;32m     <a href='vscode-notebook-cell:/home/pietaril/Matrix_Inv/MI-AIM/kf_timing.ipynb#W1sZmlsZQ%3D%3D?line=49'>50</a>\u001b[0m \u001b[39m# timeit.repeat statement\u001b[39;00m\n\u001b[0;32m---> <a href='vscode-notebook-cell:/home/pietaril/Matrix_Inv/MI-AIM/kf_timing.ipynb#W1sZmlsZQ%3D%3D?line=50'>51</a>\u001b[0m times \u001b[39m=\u001b[39m timeit\u001b[39m.\u001b[39;49mrepeat(stmt \u001b[39m=\u001b[39;49m TEST_CODE,\n\u001b[1;32m     <a href='vscode-notebook-cell:/home/pietaril/Matrix_Inv/MI-AIM/kf_timing.ipynb#W1sZmlsZQ%3D%3D?line=51'>52</a>\u001b[0m                             setup \u001b[39m=\u001b[39;49m SETUP_CODE,\n\u001b[1;32m     <a href='vscode-notebook-cell:/home/pietaril/Matrix_Inv/MI-AIM/kf_timing.ipynb#W1sZmlsZQ%3D%3D?line=52'>53</a>\u001b[0m                             repeat \u001b[39m=\u001b[39;49m \u001b[39m7\u001b[39;49m,\n\u001b[1;32m     <a href='vscode-notebook-cell:/home/pietaril/Matrix_Inv/MI-AIM/kf_timing.ipynb#W1sZmlsZQ%3D%3D?line=53'>54</a>\u001b[0m                             number \u001b[39m=\u001b[39;49m \u001b[39m10\u001b[39;49m)\n\u001b[1;32m     <a href='vscode-notebook-cell:/home/pietaril/Matrix_Inv/MI-AIM/kf_timing.ipynb#W1sZmlsZQ%3D%3D?line=55'>56</a>\u001b[0m \u001b[39m# printing minimum exec. time\u001b[39;00m\n\u001b[1;32m     <a href='vscode-notebook-cell:/home/pietaril/Matrix_Inv/MI-AIM/kf_timing.ipynb#W1sZmlsZQ%3D%3D?line=56'>57</a>\u001b[0m time \u001b[39m=\u001b[39m {\u001b[39mmin\u001b[39m(times)\u001b[39m/\u001b[39mnum}\n",
      "File \u001b[0;32m/usr/lib/python3.8/timeit.py:238\u001b[0m, in \u001b[0;36mrepeat\u001b[0;34m(stmt, setup, timer, repeat, number, globals)\u001b[0m\n\u001b[1;32m    235\u001b[0m \u001b[39mdef\u001b[39;00m \u001b[39mrepeat\u001b[39m(stmt\u001b[39m=\u001b[39m\u001b[39m\"\u001b[39m\u001b[39mpass\u001b[39m\u001b[39m\"\u001b[39m, setup\u001b[39m=\u001b[39m\u001b[39m\"\u001b[39m\u001b[39mpass\u001b[39m\u001b[39m\"\u001b[39m, timer\u001b[39m=\u001b[39mdefault_timer,\n\u001b[1;32m    236\u001b[0m            repeat\u001b[39m=\u001b[39mdefault_repeat, number\u001b[39m=\u001b[39mdefault_number, \u001b[39mglobals\u001b[39m\u001b[39m=\u001b[39m\u001b[39mNone\u001b[39;00m):\n\u001b[1;32m    237\u001b[0m     \u001b[39m\"\"\"Convenience function to create Timer object and call repeat method.\"\"\"\u001b[39;00m\n\u001b[0;32m--> 238\u001b[0m     \u001b[39mreturn\u001b[39;00m Timer(stmt, setup, timer, \u001b[39mglobals\u001b[39;49m)\u001b[39m.\u001b[39;49mrepeat(repeat, number)\n",
      "File \u001b[0;32m/usr/lib/python3.8/timeit.py:205\u001b[0m, in \u001b[0;36mTimer.repeat\u001b[0;34m(self, repeat, number)\u001b[0m\n\u001b[1;32m    203\u001b[0m r \u001b[39m=\u001b[39m []\n\u001b[1;32m    204\u001b[0m \u001b[39mfor\u001b[39;00m i \u001b[39min\u001b[39;00m \u001b[39mrange\u001b[39m(repeat):\n\u001b[0;32m--> 205\u001b[0m     t \u001b[39m=\u001b[39m \u001b[39mself\u001b[39;49m\u001b[39m.\u001b[39;49mtimeit(number)\n\u001b[1;32m    206\u001b[0m     r\u001b[39m.\u001b[39mappend(t)\n\u001b[1;32m    207\u001b[0m \u001b[39mreturn\u001b[39;00m r\n",
      "File \u001b[0;32m/usr/lib/python3.8/timeit.py:177\u001b[0m, in \u001b[0;36mTimer.timeit\u001b[0;34m(self, number)\u001b[0m\n\u001b[1;32m    175\u001b[0m gc\u001b[39m.\u001b[39mdisable()\n\u001b[1;32m    176\u001b[0m \u001b[39mtry\u001b[39;00m:\n\u001b[0;32m--> 177\u001b[0m     timing \u001b[39m=\u001b[39m \u001b[39mself\u001b[39;49m\u001b[39m.\u001b[39;49minner(it, \u001b[39mself\u001b[39;49m\u001b[39m.\u001b[39;49mtimer)\n\u001b[1;32m    178\u001b[0m \u001b[39mfinally\u001b[39;00m:\n\u001b[1;32m    179\u001b[0m     \u001b[39mif\u001b[39;00m gcold:\n",
      "File \u001b[0;32m<timeit-src>:42\u001b[0m, in \u001b[0;36minner\u001b[0;34m(_it, _timer)\u001b[0m\n",
      "File \u001b[0;32m~/Matrix_Inv/MI-AIM/kf_playground.py:88\u001b[0m, in \u001b[0;36moptimize\u001b[0;34m(useKG, xb, B, y, H, R)\u001b[0m\n\u001b[1;32m     85\u001b[0m \u001b[39mif\u001b[39;00m useKG:\n\u001b[1;32m     86\u001b[0m     \u001b[39m# Calculate Kalman gain\u001b[39;00m\n\u001b[1;32m     87\u001b[0m     S  \u001b[39m=\u001b[39m R \u001b[39m+\u001b[39m H\u001b[39m.\u001b[39mdot(B)\u001b[39m.\u001b[39mdot(H\u001b[39m.\u001b[39mT)\n\u001b[0;32m---> 88\u001b[0m     Si \u001b[39m=\u001b[39m invm(S)\n\u001b[1;32m     89\u001b[0m     KG \u001b[39m=\u001b[39m B\u001b[39m.\u001b[39mdot(H\u001b[39m.\u001b[39mT)\u001b[39m.\u001b[39mdot(Si)\n\u001b[1;32m     91\u001b[0m     \u001b[39m# Posteriors\u001b[39;00m\n",
      "\u001b[0;31mNameError\u001b[0m: name 'invm' is not defined"
     ]
    }
   ],
   "source": []
  }
 ],
 "metadata": {
  "kernelspec": {
   "display_name": "Python 3.8.10 64-bit",
   "language": "python",
   "name": "python3"
  },
  "language_info": {
   "codemirror_mode": {
    "name": "ipython",
    "version": 3
   },
   "file_extension": ".py",
   "mimetype": "text/x-python",
   "name": "python",
   "nbconvert_exporter": "python",
   "pygments_lexer": "ipython3",
   "version": "3.8.10"
  },
  "orig_nbformat": 4,
  "vscode": {
   "interpreter": {
    "hash": "916dbcbb3f70747c44a77c7bcd40155683ae19c65e1c03b4aa3499c5328201f1"
   }
  }
 },
 "nbformat": 4,
 "nbformat_minor": 2
}
