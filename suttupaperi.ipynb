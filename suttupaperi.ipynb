{
 "cells": [
  {
   "cell_type": "markdown",
   "metadata": {},
   "source": [
    "Suttupaperi\n",
    "--------------\n",
    "\n",
    "Tänne muualta siivotut koodinpätkät, joille saattaisi vielä jossain vaiheessa olla tarvetta"
   ]
  },
  {
   "cell_type": "code",
   "execution_count": null,
   "metadata": {},
   "outputs": [],
   "source": [
    "def proj(v,w):\n",
    "    \"\"\"Compute the projection of v onto span(w).\n",
    "    Parameters: v : list or 1-d numpy array\n",
    "                w : list or 1-d numpy array\"\"\"\n",
    "    p = v.dot(w)/(w.dot(w))*w\n",
    "    return p\n",
    "\n",
    "def perp(v, ws):\n",
    "    \"\"\"Compute the kohtisuora komponentti of v against subspace span(ws)\n",
    "    Parameters: v : list or 1-d numpy array\n",
    "                ws : a list of lists or 1-d numpy arrays. These have to\n",
    "                be orthogonal\"\"\"\n",
    "    projections = [proj(v,w) for w in ws]\n",
    "    return v-np.sum(projections, axis=0)"
   ]
  }
 ],
 "metadata": {
  "kernelspec": {
   "display_name": "Python 3.10.6 64-bit",
   "language": "python",
   "name": "python3"
  },
  "language_info": {
   "name": "python",
   "version": "3.10.6"
  },
  "orig_nbformat": 4,
  "vscode": {
   "interpreter": {
    "hash": "916dbcbb3f70747c44a77c7bcd40155683ae19c65e1c03b4aa3499c5328201f1"
   }
  }
 },
 "nbformat": 4,
 "nbformat_minor": 2
}
