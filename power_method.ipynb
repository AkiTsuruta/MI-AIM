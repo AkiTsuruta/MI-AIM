{
 "cells": [
  {
   "cell_type": "markdown",
   "metadata": {},
   "source": [
    "Power Method\n",
    "-------------"
   ]
  },
  {
   "cell_type": "code",
   "execution_count": 1,
   "metadata": {},
   "outputs": [],
   "source": [
    "import numpy as np\n",
    "import xarray as xr\n",
    "\n",
    "\n",
    "ds_1 = xr.open_dataset(\"data/regions_verify_isotope_202112_cov.nc\")\n",
    "bio_1 = ds_1[\"covariance_bio\"]\n",
    "anth_1 = ds_1[\"covariance_anth\"]\n",
    "\n",
    "ds_2 = xr.open_dataset(\"data/regions_verify_202104_cov.nc\")\n",
    "bio_2 = ds_2[\"covariance_bio\"]\n",
    "anth_2 = ds_2[\"covariance_anth\"]\n",
    "\n",
    "M = bio_1.values"
   ]
  },
  {
   "cell_type": "code",
   "execution_count": 3,
   "metadata": {},
   "outputs": [
    {
     "name": "stdout",
     "output_type": "stream",
     "text": [
      "True\n"
     ]
    }
   ],
   "source": [
    "\n"
   ]
  },
  {
   "cell_type": "markdown",
   "metadata": {},
   "source": [
    "Functions that compute:\n",
    "* the approximative, normalized eigenvector corresponding to the eigenvalue of largest magnitude (function from Wikipedia)\n",
    "* the eigenvalue corresponding to given, normalized eigenvector (my own code)\n",
    "* diagnostics to see how well the power method performs (my own code)"
   ]
  },
  {
   "cell_type": "code",
   "execution_count": 2,
   "metadata": {},
   "outputs": [],
   "source": [
    "#!/usr/bin/env python3\n",
    "\n",
    "import numpy as np\n",
    "\n",
    "def power_iteration(A, iterations: int):\n",
    "    # A slightly modified version of\n",
    "    # the function retrieved from \n",
    "    # https://en.wikipedia.org/wiki/Power_iteration\n",
    "    # (Retrieved: 8.9.2022)\n",
    "    # Ideally choose a random vector\n",
    "    # To decrease the chance that our vector\n",
    "    # Is orthogonal to the eigenvector\n",
    "    b_k = np.random.rand(A.shape[1])\n",
    "    b_k_norm = np.linalg.norm(b_k)\n",
    "    #normalize\n",
    "    b_k = b_k/b_k_norm\n",
    "\n",
    "    for _ in np.arange(iterations):\n",
    "        # calculate the matrix-by-vector product Ab\n",
    "        b_k1 = A.dot(b_k)\n",
    "\n",
    "        # calculate the norm\n",
    "        b_k1_norm = np.linalg.norm(b_k1)\n",
    "\n",
    "        # re normalize the vector\n",
    "        b_k = b_k1 / b_k1_norm\n",
    "\n",
    "    return b_k\n",
    "\n",
    "def rayleigh_quotient(A, v):\n",
    "    \"\"\"Function computes the rayleigh quotient for 2-d numpy array A and normalized vector v.\n",
    "    (Because v normalized, the denominator v.T.dot(v)=1, and can thus be omitted.)\n",
    "    If v is an eigenvector of A, the quotient gives the corresponding eigenvalue.\"\"\"\n",
    "    mu = v.T.dot(A).dot(v)\n",
    "    return mu\n",
    "\n",
    "def residual_norm(A, v, mu):\n",
    "    \"\"\"Compute the 2-norm of the residual vector r = Av-av, where\n",
    "    A is a 2-d numpy array, v an approximated eigenvector and a is an approximation of\n",
    "    corresponding eigenvalue. Can be used to evaluate the accuracy of the estimated\n",
    "    eigenvector and -value.\"\"\"\n",
    "    r = A.dot(v)-mu*v\n",
    "    norm = np.linalg.norm(r)\n",
    "    return norm"
   ]
  },
  {
   "cell_type": "markdown",
   "metadata": {},
   "source": [
    "Hotelling's deflation\n",
    "-----------------------\n",
    "A method for finding the next eigenvectors after the first one "
   ]
  },
  {
   "cell_type": "code",
   "execution_count": 3,
   "metadata": {},
   "outputs": [],
   "source": [
    "\n",
    "def hotelling2(A, v, mu, n_iterations):\n",
    "    \"\"\"Function to compute the second eigenvector after the largest\n",
    "    eigenvalue and corresponding eigenvector has been computed.\n",
    "    Function utilizes Hotelling's method.\n",
    "    Parameters:\n",
    "    A : 2D array\n",
    "    v : 1D array. Eigenvector corresponding to the largest eigenvalue of A. \n",
    "    a : float. Largest eigenvalue of A.\n",
    "    num_simulations : int\"\"\"\n",
    "    b_k = np.random.rand(A.shape[1])\n",
    "    b_k_norm = np.linalg.norm(b_k)\n",
    "    #normalize\n",
    "    b_k = b_k/b_k_norm\n",
    "\n",
    "    for i in np.arange(n_iterations):\n",
    "        b_k1 = A.dot(b_k)-mu*v*(v.T.dot(b_k))\n",
    "\n",
    "        norm = np.linalg.norm(b_k1)\n",
    "\n",
    "        #normalize\n",
    "        b_k = b_k1 / norm\n",
    "\n",
    "    return b_k\n",
    "\n",
    "def hotelling(A, v, mu, n_vectors, n_iterations):\n",
    "    \"\"\"Function to compute the eigenvectors that\n",
    "    correspond to the second, third, ... , n_vectorsth\n",
    "    largest eigenvalues along\n",
    "    with their corresponding eigenvector. The largest eigenvalue\n",
    "    and corresponding eigenvector need to have been computed first.\n",
    "    Returns the eigenvectors as rows of an array and the eigenvalues\n",
    "    as a list in descending order\"\"\"\n",
    "\n",
    "    n = A.shape[1]\n",
    "    #array for storing the eigenvectors as its rows\n",
    "    V_T = np.array([v])\n",
    "\n",
    "    #list for storing the eigenvalues\n",
    "    mu_s = np.array(mu)\n",
    "\n",
    "    #helper array for computations with mu*v as columns\n",
    "    V_mu = np.reshape(mu*v, (-1,1))\n",
    "\n",
    "    \n",
    "\n",
    "    #each eigenvector and eigenvalue computed iteratively\n",
    "    #using the previously computed ones\n",
    "    for i in np.arange(n_vectors):\n",
    "        \n",
    "        #initial guess\n",
    "        w0 = np.random.rand(n)\n",
    "        norm = np.linalg.norm(w0)\n",
    "        #normalize\n",
    "        w0 = w0/norm\n",
    "        \n",
    "    \n",
    "        #power iteration\n",
    "        for j in np.arange(n_iterations):\n",
    "            #Hotelling's deflation\n",
    "            wj = A.dot(w0)-V_mu.dot(V_T.dot(w0))\n",
    "\n",
    "            norm = np.linalg.norm(wj)\n",
    "\n",
    "            #normalize\n",
    "            w0 = wj / norm\n",
    "        \n",
    "        #calculate corresponding eigenvalue\n",
    "        mu0 = rayleigh_quotient(A, w0)\n",
    "\n",
    "        # store the eigenvector and eigenvalues \n",
    "        V_T = np.concatenate((V_T, np.array(w0)), axis = 0)\n",
    "        mu_s.append(mu0)\n",
    "        V_mu = np.column_stack((V_mu, mu0*w0))\n",
    "\n",
    "    return V_T, mu_s \n",
    "   \n",
    "\n",
    "\n",
    "\n",
    "\n",
    "#OBS! NEED TO CHECK IF THERE IS A DIFFERENCE IN SPEED WITH A.dot(v) vs. np.dot(A, v)\n",
    "\n"
   ]
  },
  {
   "cell_type": "code",
   "execution_count": null,
   "metadata": {},
   "outputs": [],
   "source": []
  },
  {
   "cell_type": "code",
   "execution_count": 9,
   "metadata": {},
   "outputs": [
    {
     "name": "stdout",
     "output_type": "stream",
     "text": [
      "(3, 1)\n",
      "(1, 41)\n"
     ]
    }
   ],
   "source": [
    "a = np.array([[1,2,3]])\n",
    "b = np.array([[5,6,7]])\n",
    "c = np.concatenate((a,b), axis = 0)\n",
    "\n",
    "print(a.T.shape)\n",
    "h = np.array([v1])\n",
    "print(h.shape)"
   ]
  },
  {
   "cell_type": "code",
   "execution_count": 4,
   "metadata": {},
   "outputs": [
    {
     "ename": "ValueError",
     "evalue": "all the input arrays must have same number of dimensions, but the array at index 0 has 2 dimension(s) and the array at index 1 has 1 dimension(s)",
     "output_type": "error",
     "traceback": [
      "\u001b[0;31m---------------------------------------------------------------------------\u001b[0m",
      "\u001b[0;31mValueError\u001b[0m                                Traceback (most recent call last)",
      "\u001b[1;32m/home/pietaril/Matrix_Inv/MI-AIM/power_method.ipynb Cell 10\u001b[0m in \u001b[0;36m<cell line: 8>\u001b[0;34m()\u001b[0m\n\u001b[1;32m      <a href='vscode-notebook-cell:/home/pietaril/Matrix_Inv/MI-AIM/power_method.ipynb#X11sZmlsZQ%3D%3D?line=4'>5</a>\u001b[0m v2 \u001b[39m=\u001b[39m hotelling2(M,v1,mu1,\u001b[39m50\u001b[39m)\n\u001b[1;32m      <a href='vscode-notebook-cell:/home/pietaril/Matrix_Inv/MI-AIM/power_method.ipynb#X11sZmlsZQ%3D%3D?line=5'>6</a>\u001b[0m mu2 \u001b[39m=\u001b[39m rayleigh_quotient(M,v2)\n\u001b[0;32m----> <a href='vscode-notebook-cell:/home/pietaril/Matrix_Inv/MI-AIM/power_method.ipynb#X11sZmlsZQ%3D%3D?line=7'>8</a>\u001b[0m V_T, mu_s \u001b[39m=\u001b[39m hotelling(M,v1,mu1,\u001b[39m1\u001b[39;49m,\u001b[39m50\u001b[39;49m)\n",
      "\u001b[1;32m/home/pietaril/Matrix_Inv/MI-AIM/power_method.ipynb Cell 10\u001b[0m in \u001b[0;36mhotelling\u001b[0;34m(A, v, mu, n_vectors, n_iterations)\u001b[0m\n\u001b[1;32m     <a href='vscode-notebook-cell:/home/pietaril/Matrix_Inv/MI-AIM/power_method.ipynb#X11sZmlsZQ%3D%3D?line=67'>68</a>\u001b[0m mu0 \u001b[39m=\u001b[39m rayleigh_quotient(A, w0)\n\u001b[1;32m     <a href='vscode-notebook-cell:/home/pietaril/Matrix_Inv/MI-AIM/power_method.ipynb#X11sZmlsZQ%3D%3D?line=69'>70</a>\u001b[0m \u001b[39m# store the eigenvector and eigenvalues \u001b[39;00m\n\u001b[0;32m---> <a href='vscode-notebook-cell:/home/pietaril/Matrix_Inv/MI-AIM/power_method.ipynb#X11sZmlsZQ%3D%3D?line=70'>71</a>\u001b[0m V_T \u001b[39m=\u001b[39m np\u001b[39m.\u001b[39;49mconcatenate((V_T, np\u001b[39m.\u001b[39;49marray(w0)), axis \u001b[39m=\u001b[39;49m \u001b[39m0\u001b[39;49m)\n\u001b[1;32m     <a href='vscode-notebook-cell:/home/pietaril/Matrix_Inv/MI-AIM/power_method.ipynb#X11sZmlsZQ%3D%3D?line=71'>72</a>\u001b[0m mu_s\u001b[39m.\u001b[39mappend(mu0)\n\u001b[1;32m     <a href='vscode-notebook-cell:/home/pietaril/Matrix_Inv/MI-AIM/power_method.ipynb#X11sZmlsZQ%3D%3D?line=72'>73</a>\u001b[0m V_mu \u001b[39m=\u001b[39m np\u001b[39m.\u001b[39mcolumn_stack((V_mu, mu0\u001b[39m*\u001b[39mw0))\n",
      "File \u001b[0;32m<__array_function__ internals>:180\u001b[0m, in \u001b[0;36mconcatenate\u001b[0;34m(*args, **kwargs)\u001b[0m\n",
      "\u001b[0;31mValueError\u001b[0m: all the input arrays must have same number of dimensions, but the array at index 0 has 2 dimension(s) and the array at index 1 has 1 dimension(s)"
     ]
    }
   ],
   "source": [
    "M = bio_1.values\n",
    "\n",
    "v1 = power_iteration(M, 50)\n",
    "mu1 = rayleigh_quotient(M,v1)\n",
    "v2 = hotelling2(M,v1,mu1,50)\n",
    "mu2 = rayleigh_quotient(M,v2)\n",
    "\n",
    "V_T, mu_s = hotelling(M,v1,mu1,1,50)\n",
    "\n"
   ]
  },
  {
   "cell_type": "code",
   "execution_count": 13,
   "metadata": {},
   "outputs": [
    {
     "name": "stdout",
     "output_type": "stream",
     "text": [
      "(1, 41)\n",
      "(41, 1)\n"
     ]
    }
   ],
   "source": [
    "\n",
    "WT = np.array([v1])\n",
    "print(WT.shape)\n",
    "W_mu = np.reshape(mu1*v1, (-1,1))\n",
    "print(W_mu.shape)\n",
    "\n"
   ]
  },
  {
   "cell_type": "code",
   "execution_count": null,
   "metadata": {},
   "outputs": [],
   "source": []
  },
  {
   "cell_type": "code",
   "execution_count": 10,
   "metadata": {},
   "outputs": [
    {
     "name": "stdout",
     "output_type": "stream",
     "text": [
      "(41,)\n"
     ]
    }
   ],
   "source": [
    "w = hotelling(M,v1,mu1,1,50)\n",
    "print(w.shape)"
   ]
  },
  {
   "cell_type": "code",
   "execution_count": 31,
   "metadata": {},
   "outputs": [
    {
     "name": "stdout",
     "output_type": "stream",
     "text": [
      "True\n"
     ]
    }
   ],
   "source": [
    "b_k = np.random.rand(M.shape[1])\n",
    "print(b_k.dtype == np.float64)"
   ]
  },
  {
   "cell_type": "code",
   "execution_count": 73,
   "metadata": {},
   "outputs": [
    {
     "name": "stdout",
     "output_type": "stream",
     "text": [
      "[[4.39649094e-04 0.00000000e+00 0.00000000e+00 0.00000000e+00]\n",
      " [8.11128591e-04 0.00000000e+00 0.00000000e+00 0.00000000e+00]\n",
      " [5.75410807e-04 0.00000000e+00 0.00000000e+00 0.00000000e+00]\n",
      " [3.13533763e-04 0.00000000e+00 0.00000000e+00 0.00000000e+00]\n",
      " [4.47374467e-04 0.00000000e+00 0.00000000e+00 0.00000000e+00]\n",
      " [8.24459780e-05 0.00000000e+00 0.00000000e+00 0.00000000e+00]\n",
      " [4.00212362e-05 0.00000000e+00 0.00000000e+00 0.00000000e+00]\n",
      " [4.91260301e-06 0.00000000e+00 0.00000000e+00 0.00000000e+00]\n",
      " [7.22695063e-06 0.00000000e+00 0.00000000e+00 0.00000000e+00]\n",
      " [9.19081847e-06 0.00000000e+00 0.00000000e+00 0.00000000e+00]\n",
      " [2.90017482e-02 0.00000000e+00 0.00000000e+00 0.00000000e+00]\n",
      " [1.25001728e-02 0.00000000e+00 0.00000000e+00 0.00000000e+00]\n",
      " [5.15144667e-03 0.00000000e+00 0.00000000e+00 0.00000000e+00]\n",
      " [4.62641174e-05 0.00000000e+00 0.00000000e+00 0.00000000e+00]\n",
      " [2.41288546e-02 0.00000000e+00 0.00000000e+00 0.00000000e+00]\n",
      " [1.86376098e-04 0.00000000e+00 0.00000000e+00 0.00000000e+00]\n",
      " [2.99713319e-02 0.00000000e+00 0.00000000e+00 0.00000000e+00]\n",
      " [9.25173609e-02 0.00000000e+00 0.00000000e+00 0.00000000e+00]\n",
      " [2.35172504e-04 0.00000000e+00 0.00000000e+00 0.00000000e+00]\n",
      " [1.04584708e-03 0.00000000e+00 0.00000000e+00 0.00000000e+00]\n",
      " [3.19459645e-06 0.00000000e+00 0.00000000e+00 0.00000000e+00]\n",
      " [1.14503098e-06 0.00000000e+00 0.00000000e+00 0.00000000e+00]\n",
      " [2.25688842e-01 0.00000000e+00 0.00000000e+00 0.00000000e+00]\n",
      " [2.62963653e-01 0.00000000e+00 0.00000000e+00 0.00000000e+00]\n",
      " [3.94406673e-01 0.00000000e+00 0.00000000e+00 0.00000000e+00]\n",
      " [3.23399389e-01 0.00000000e+00 0.00000000e+00 0.00000000e+00]\n",
      " [5.44915514e-01 0.00000000e+00 0.00000000e+00 0.00000000e+00]\n",
      " [4.08724167e-01 0.00000000e+00 0.00000000e+00 0.00000000e+00]\n",
      " [3.80415563e-01 0.00000000e+00 0.00000000e+00 0.00000000e+00]\n",
      " [3.70545769e-36 0.00000000e+00 0.00000000e+00 0.00000000e+00]\n",
      " [6.93803990e-36 0.00000000e+00 0.00000000e+00 0.00000000e+00]\n",
      " [7.72133299e-36 0.00000000e+00 0.00000000e+00 0.00000000e+00]\n",
      " [4.32475558e-36 0.00000000e+00 0.00000000e+00 0.00000000e+00]\n",
      " [3.48454033e-36 0.00000000e+00 0.00000000e+00 0.00000000e+00]\n",
      " [4.49706379e-36 0.00000000e+00 0.00000000e+00 0.00000000e+00]\n",
      " [9.36289374e-36 0.00000000e+00 0.00000000e+00 0.00000000e+00]\n",
      " [5.04502922e-36 0.00000000e+00 0.00000000e+00 0.00000000e+00]\n",
      " [6.03903421e-36 0.00000000e+00 0.00000000e+00 0.00000000e+00]\n",
      " [5.03215357e-36 0.00000000e+00 0.00000000e+00 0.00000000e+00]\n",
      " [6.46178295e-36 0.00000000e+00 0.00000000e+00 0.00000000e+00]\n",
      " [1.02041136e-35 0.00000000e+00 0.00000000e+00 0.00000000e+00]]\n"
     ]
    }
   ],
   "source": [
    "\n",
    "V = np.zeros(shape = (len(v1), 4))\n",
    "V[:,0] = v1\n",
    "print(V)"
   ]
  },
  {
   "cell_type": "code",
   "execution_count": null,
   "metadata": {},
   "outputs": [],
   "source": [
    "def proj(v,w):\n",
    "    \"\"\"Compute the projection of v onto span(w).\n",
    "    Parameters: v : list or 1-d numpy array\n",
    "                w : list or 1-d numpy array\"\"\"\n",
    "    p = v.dot(w)/(w.dot(w))*w\n",
    "    return p\n",
    "\n",
    "def perp(v, ws):\n",
    "    \"\"\"Compute the kohtisuora komponentti of v against subspace span(ws)\n",
    "    Parameters: v : list or 1-d numpy array\n",
    "                ws : a list of lists or 1-d numpy arrays. These have to\n",
    "                be orthogonal\"\"\"\n",
    "    projections = [proj(v,w) for w in ws]\n",
    "    return v-np.sum(projections, axis=0)\n"
   ]
  },
  {
   "cell_type": "markdown",
   "metadata": {},
   "source": [
    "Below the \"real\" eigenvalues and eigenvectors\n",
    "----------------------------------------------"
   ]
  },
  {
   "cell_type": "code",
   "execution_count": 65,
   "metadata": {},
   "outputs": [
    {
     "name": "stdout",
     "output_type": "stream",
     "text": [
      "1.0168516885375931\n",
      "1.0168519007503496\n",
      "0.8866088779660348\n",
      "0.8871946000095507\n",
      "[ 2.22703320e+02 -7.52016596e+02 -5.73797612e-02  2.27502981e+01\n",
      "  3.54008536e+01 -3.16010520e+01 -1.04212181e+02  8.91003912e+03\n",
      " -1.47986714e+03 -4.62706312e+00 -2.14176242e+01  2.64076308e+01\n",
      "  0.00000000e+00  0.00000000e+00  0.00000000e+00  0.00000000e+00\n",
      "  0.00000000e+00  0.00000000e+00  0.00000000e+00  0.00000000e+00\n",
      "  0.00000000e+00  0.00000000e+00  0.00000000e+00  0.00000000e+00\n",
      "  0.00000000e+00  0.00000000e+00  0.00000000e+00  0.00000000e+00\n",
      "  0.00000000e+00  0.00000000e+00  0.00000000e+00  0.00000000e+00\n",
      "  0.00000000e+00  0.00000000e+00  0.00000000e+00  0.00000000e+00\n",
      "  0.00000000e+00  0.00000000e+00  0.00000000e+00  0.00000000e+00\n",
      "  0.00000000e+00]\n"
     ]
    }
   ],
   "source": [
    "\n",
    "\n",
    "#compute eigenvalues and eigenvectors of M. Note: np.linalg.eigh gives eigenvalues in ascending order, \n",
    "# so the largest is last, and so is the corresponding eigenvector. \n",
    "# (NOTE: Don't need to worry abot how the order treats negative values as all eigenvalues of a positive semidefinite matrix are nonnegative)\n",
    "\n",
    "evals, evecs = np.linalg.eigh(M) \n",
    "#largest eigenvalue and corresponding evec\n",
    "eval1, evec1 = evals[-1], evecs[-1]\n",
    "#second largest\n",
    "eval2, evec2 = evals[-2], evecs[-2]\n",
    "\n",
    "\n",
    "print(mu1)\n",
    "print(eval1)\n",
    "print(mu2)\n",
    "print(eval2)\n"
   ]
  },
  {
   "cell_type": "code",
   "execution_count": 70,
   "metadata": {},
   "outputs": [
    {
     "name": "stdout",
     "output_type": "stream",
     "text": [
      "-0.00011744376785258193\n"
     ]
    }
   ],
   "source": [
    "\n",
    "print(v1.dot(v2))\n"
   ]
  },
  {
   "cell_type": "code",
   "execution_count": 18,
   "metadata": {},
   "outputs": [
    {
     "data": {
      "text/plain": [
       "2"
      ]
     },
     "execution_count": 18,
     "metadata": {},
     "output_type": "execute_result"
    }
   ],
   "source": [
    "\n",
    "# check if the real and approximated eigenvector linearly dependent\n",
    "A = np.stack((v_2, evec2), axis=1)\n",
    "np.linalg.matrix_rank(A)\n",
    "\n"
   ]
  },
  {
   "cell_type": "code",
   "execution_count": 57,
   "metadata": {},
   "outputs": [
    {
     "name": "stdout",
     "output_type": "stream",
     "text": [
      "11.694825610284667\n"
     ]
    }
   ],
   "source": [
    "a_2 = rayleigh_quotient(M, v_2)\n",
    "print(a_2)"
   ]
  },
  {
   "cell_type": "code",
   "execution_count": 7,
   "metadata": {},
   "outputs": [
    {
     "name": "stdout",
     "output_type": "stream",
     "text": [
      "11 1.0\n"
     ]
    }
   ],
   "source": [
    "for i in np.arange(len(evec1)):\n",
    "    x = evec1[i]\n",
    "    if x != 0.0:\n",
    "        print(i,x)"
   ]
  },
  {
   "cell_type": "code",
   "execution_count": 51,
   "metadata": {},
   "outputs": [
    {
     "name": "stdout",
     "output_type": "stream",
     "text": [
      "Iteration 50, residual norm: 0.002694597137400284\n",
      "Iteration 100, residual norm: 0.00023027591081764133\n",
      "Iteration 150, residual norm: 6.717010804712341e-05\n",
      "Iteration 200, residual norm: 0.00014071462095937545\n",
      "Iteration 250, residual norm: 0.00015732072384204554\n",
      "Iteration 300, residual norm: 0.00018789944059598136\n",
      "Iteration 350, residual norm: 1.0853296793970103e-06\n"
     ]
    }
   ],
   "source": [
    "for i in range(50,400,50):\n",
    "    v_2 = hotelling2(M, v, a, i)\n",
    "    a_2 = rayleigh_quotient(M, v_2)\n",
    "    norm = residual_norm(M, v_2, a_2)\n",
    "    print(f\"Iteration {i}, residual norm: {norm}\")\n",
    "    "
   ]
  },
  {
   "cell_type": "code",
   "execution_count": 49,
   "metadata": {},
   "outputs": [
    {
     "name": "stdout",
     "output_type": "stream",
     "text": [
      "Iteration: 100, residual norm: 1.0367997085054587e-07\n",
      "Iteration: 200, residual norm: 2.0375336947625995e-13\n",
      "Iteration: 300, residual norm: 5.551169297415832e-17\n",
      "Iteration: 400, residual norm: 5.551157474611588e-17\n",
      "Iteration: 500, residual norm: 5.551157474611588e-17\n",
      "Iteration: 600, residual norm: 5.551157474611588e-17\n",
      "Iteration: 700, residual norm: 5.551157474611588e-17\n",
      "Iteration: 800, residual norm: 5.551157474611588e-17\n",
      "Iteration: 900, residual norm: 5.551157474611588e-17\n"
     ]
    }
   ],
   "source": [
    "#print(f\"Real eigval: {eval1}\")\n",
    "\n",
    "\n",
    "for i in range(100,1000, 100):\n",
    "    v = power_iteration(M, i)\n",
    "    a = rayleigh_quotient(M, v)\n",
    "    norm = residual_norm(M, v, a)\n",
    "    print(f\"Iteration: {i}, residual norm: {norm}\")\n",
    "    #print(f\"Iteration: {i}, estimated eigval: {a}, residual norm: {norm}\")\n",
    "    \n",
    "    "
   ]
  },
  {
   "cell_type": "markdown",
   "metadata": {},
   "source": []
  }
 ],
 "metadata": {
  "kernelspec": {
   "display_name": "Python 3.8.10 64-bit",
   "language": "python",
   "name": "python3"
  },
  "language_info": {
   "codemirror_mode": {
    "name": "ipython",
    "version": 3
   },
   "file_extension": ".py",
   "mimetype": "text/x-python",
   "name": "python",
   "nbconvert_exporter": "python",
   "pygments_lexer": "ipython3",
   "version": "3.8.10"
  },
  "orig_nbformat": 4,
  "vscode": {
   "interpreter": {
    "hash": "916dbcbb3f70747c44a77c7bcd40155683ae19c65e1c03b4aa3499c5328201f1"
   }
  }
 },
 "nbformat": 4,
 "nbformat_minor": 2
}
