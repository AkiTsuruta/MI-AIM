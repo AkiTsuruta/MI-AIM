{
 "cells": [
  {
   "cell_type": "markdown",
   "metadata": {},
   "source": [
    "Power Method\n",
    "-------------"
   ]
  },
  {
   "cell_type": "code",
   "execution_count": 59,
   "metadata": {},
   "outputs": [],
   "source": [
    "import numpy as np\n",
    "import xarray as xr\n",
    "\n",
    "\n",
    "ds_1 = xr.open_dataset(\"data/regions_verify_isotope_202112_cov.nc\")\n",
    "bio_1 = ds_1[\"covariance_bio\"]\n",
    "anth_1 = ds_1[\"covariance_anth\"]\n",
    "\n",
    "ds_2 = xr.open_dataset(\"data/regions_verify_202104_cov.nc\")\n",
    "bio_2 = ds_2[\"covariance_bio\"]\n",
    "anth_2 = ds_2[\"covariance_anth\"]\n",
    "\n",
    "M = anth_2.values"
   ]
  },
  {
   "cell_type": "markdown",
   "metadata": {},
   "source": []
  },
  {
   "cell_type": "code",
   "execution_count": 60,
   "metadata": {},
   "outputs": [],
   "source": [
    "#!/usr/bin/env python3\n",
    "\n",
    "import numpy as np\n",
    "\n",
    "def first_eigvec(A, n_iterations: int):\n",
    "    \"\"\"A slightly modified version of\n",
    "    the function power_iteration retrieved from \n",
    "    https://en.wikipedia.org/wiki/Power_iteration\n",
    "    (Retrieved: 8.9.2022)\n",
    "    Function computes an estimation\n",
    "    of the eigenvector corresponding\n",
    "    to the largest eigenvalue of \n",
    "    2-D array A\"\"\"\n",
    "    w0 = np.random.rand(A.shape[1])\n",
    "    norm = np.linalg.norm(w0)\n",
    "    #normalize\n",
    "    w0 = w0 / norm\n",
    "\n",
    "    for j in np.arange(n_iterations):\n",
    "        # calculate the matrix-by-vector product Ab\n",
    "        wj = A.dot(w0)\n",
    "\n",
    "        # calculate the norm\n",
    "        norm = np.linalg.norm(wj)\n",
    "\n",
    "        # re normalize the vector\n",
    "        w0 = wj / norm\n",
    "\n",
    "    return w0\n",
    "\n",
    "def rayleigh_quotient(A, v):\n",
    "    \"\"\"Function computes the rayleigh quotient for 2-d numpy array A and normalized vector v.\n",
    "    (Because v normalized, the denominator v.T.dot(v)=1, and can thus be omitted.)\n",
    "    If v is an eigenvector of A, the quotient gives the corresponding eigenvalue.\"\"\"\n",
    "    mu = v.T.dot(A).dot(v)\n",
    "    return mu\n",
    "\n",
    "def residual_norm(A, v, mu):\n",
    "    \"\"\"Compute the 2-norm of the residual vector r = Av-av, where\n",
    "    A is a 2-d numpy array, v an approximated eigenvector and a is an approximation of\n",
    "    corresponding eigenvalue. Can be used to evaluate the accuracy of the estimated\n",
    "    eigenvector and -value.\"\"\"\n",
    "    r = A.dot(v)-mu*v\n",
    "    norm = np.linalg.norm(r)\n",
    "    return norm\n",
    "\n",
    "def hotelling2(A, v, mu, n_iterations):\n",
    "    \"\"\"Function to compute the second eigenvector after the largest\n",
    "    eigenvalue and corresponding eigenvector has been computed.\n",
    "    Function utilizes Hotelling's method.\n",
    "    Parameters:\n",
    "    A : 2D array\n",
    "    v : 1D array. Eigenvector corresponding to the largest eigenvalue of A. \n",
    "    a : float. Largest eigenvalue of A.\n",
    "    num_simulations : int\"\"\"\n",
    "    w0 = np.random.rand(A.shape[1])\n",
    "    norm = np.linalg.norm(w0)\n",
    "    #normalize\n",
    "    w0 = w0 / norm\n",
    "\n",
    "    for i in np.arange(n_iterations):\n",
    "        wi = A.dot(w0)-mu*v*(v.T.dot(w0))\n",
    "\n",
    "        norm = np.linalg.norm(wi)\n",
    "\n",
    "        #normalize\n",
    "        w0 = wi / norm\n",
    "\n",
    "    return w0\n",
    "\n",
    "def hotelling(A, v, mu, n_vectors, n_iterations):\n",
    "    \"\"\"Function that uses Hotelling's deflation\n",
    "    method to compute the eigenvectors that\n",
    "    correspond to the second, third, ... , (n_vectors)th\n",
    "    largest eigenvalues along\n",
    "    with their corresponding eigenvector. The largest eigenvalue\n",
    "    and corresponding eigenvector need to have been computed first.\n",
    "    Returns n_vectors eigenvectors as rows of an array and the eigenvalues\n",
    "    as a list in descending order\"\"\"\n",
    "\n",
    "    n = A.shape[1]\n",
    "    #array for storing the eigenvectors as its rows\n",
    "    V_T = v\n",
    "\n",
    "    #list for storing the eigenvalues\n",
    "    mu_s = np.array(mu)\n",
    "\n",
    "    #array with mu*v as columns\n",
    "    V_mu = mu*v\n",
    "    \n",
    "\n",
    "    #each new eigenvector and eigenvalue computed iteratively\n",
    "    #using the previously computed ones\n",
    "    for i in np.arange(n_vectors-1):\n",
    "        \n",
    "        #initial guess\n",
    "        w0 = np.random.rand(n)\n",
    "        norm = np.linalg.norm(w0)\n",
    "        #normalize\n",
    "        w0 = w0/norm\n",
    "    \n",
    "        #power iteration\n",
    "        for j in np.arange(n_iterations):\n",
    "            #Hotelling's deflation\n",
    "            wj = A.dot(w0)-V_mu.dot(V_T.dot(w0))\n",
    "\n",
    "            norm = np.linalg.norm(wj)\n",
    "\n",
    "            #normalize\n",
    "            w0 = wj / norm\n",
    "        \n",
    "        #calculate corresponding eigenvalue\n",
    "        mu0 = rayleigh_quotient(A, w0)\n",
    "\n",
    "        # store the eigenvector and eigenvalues \n",
    "        V_T = np.row_stack((V_T, w0))\n",
    "        mu_s = np.append(mu_s, mu0)\n",
    "        V_mu = np.column_stack((V_mu, mu0*w0))\n",
    "\n",
    "    return V_T, mu_s \n",
    "\n",
    "def power_method(A, n_vectors, n_iterations):\n",
    "    \"\"\"Function estimates the n_vectors eigenvectors\n",
    "    with largest eigenvalues of 2-D array A using\n",
    "    the power method. Returns the estimated eigenvectors\n",
    "    as rows in an array and the estimated eigenvalues as a list\"\"\"\n",
    "\n",
    "    # compute the eigenvector with\n",
    "    # the largest eigenvalue\n",
    "    v = first_eigvec(A, n_iterations)\n",
    "    mu = rayleigh_quotient(A, v)\n",
    "\n",
    "    if n_vectors < 2:\n",
    "        return v, mu\n",
    "    else:\n",
    "        #compute the other eigenvectors and eigenvalues\n",
    "        #using Hotelling's deflation and Rayleigh quotient\n",
    "        V_T, mu_s = hotelling(A, v, mu, n_vectors, n_iterations)\n",
    "        return V_T, mu_s"
   ]
  },
  {
   "cell_type": "code",
   "execution_count": 25,
   "metadata": {},
   "outputs": [],
   "source": [
    "\n",
    "\n",
    "\n",
    "\n",
    "\n",
    "\n",
    "#OBS! NEED TO CHECK IF THERE IS A DIFFERENCE IN SPEED WITH A.dot(v) vs. np.dot(A, v)\n",
    "\n"
   ]
  },
  {
   "cell_type": "code",
   "execution_count": 32,
   "metadata": {},
   "outputs": [
    {
     "name": "stdout",
     "output_type": "stream",
     "text": [
      "[[1. 2.]\n",
      " [1. 2.]\n",
      " [1. 2.]\n",
      " [1. 2.]\n",
      " [1. 2.]]\n",
      "[[1. 1. 1. 1. 1.]\n",
      " [2. 2. 2. 2. 2.]]\n",
      "[[ 5. 10.]\n",
      " [10. 20.]]\n"
     ]
    }
   ],
   "source": [
    "\n",
    "u = np.ones(5)\n",
    "w = np.ones(5)*2\n",
    "u_T = np.array([u])\n",
    "uw_T = np.row_stack((u,w))\n",
    "uw = np.column_stack((u,w))\n",
    "print(uw)\n",
    "print(uw_T)\n",
    "print(uw_T.dot(uw))"
   ]
  },
  {
   "cell_type": "code",
   "execution_count": null,
   "metadata": {},
   "outputs": [],
   "source": [
    "def proj(v,w):\n",
    "    \"\"\"Compute the projection of v onto span(w).\n",
    "    Parameters: v : list or 1-d numpy array\n",
    "                w : list or 1-d numpy array\"\"\"\n",
    "    p = v.dot(w)/(w.dot(w))*w\n",
    "    return p\n",
    "\n",
    "def perp(v, ws):\n",
    "    \"\"\"Compute the kohtisuora komponentti of v against subspace span(ws)\n",
    "    Parameters: v : list or 1-d numpy array\n",
    "                ws : a list of lists or 1-d numpy arrays. These have to\n",
    "                be orthogonal\"\"\"\n",
    "    projections = [proj(v,w) for w in ws]\n",
    "    return v-np.sum(projections, axis=0)\n"
   ]
  },
  {
   "cell_type": "markdown",
   "metadata": {},
   "source": [
    "Below the \"real\" eigenvalues and eigenvectors\n",
    "----------------------------------------------"
   ]
  },
  {
   "cell_type": "code",
   "execution_count": 61,
   "metadata": {},
   "outputs": [],
   "source": [
    "\n",
    "\n",
    "#compute eigenvalues and eigenvectors of M. Note: np.linalg.eigh gives eigenvalues in ascending order, \n",
    "# so the largest is last, and so is the corresponding eigenvector. \n",
    "# (NOTE: Don't need to worry abot how the order treats negative values as all eigenvalues of a positive semidefinite matrix are nonnegative)\n",
    "\n",
    "evals, evecs = np.linalg.eigh(M) \n",
    "#largest eigenvalue and corresponding evec\n",
    "eval1, evec1 = evals[-1], evecs[-1]\n",
    "#second largest\n",
    "eval2, evec2 = evals[-2], evecs[-2]\n",
    "\n",
    "\n"
   ]
  },
  {
   "cell_type": "code",
   "execution_count": 68,
   "metadata": {},
   "outputs": [
    {
     "name": "stdout",
     "output_type": "stream",
     "text": [
      "(6858,)\n"
     ]
    }
   ],
   "source": [
    "print(evals.shape)"
   ]
  },
  {
   "cell_type": "code",
   "execution_count": 70,
   "metadata": {},
   "outputs": [
    {
     "name": "stdout",
     "output_type": "stream",
     "text": [
      "[15.15454765 11.69482561 10.32612078  9.96130532  9.89193315  9.75719582\n",
      "  9.24783414  9.15443245  8.89805937  8.89677888]\n"
     ]
    }
   ],
   "source": [
    "\n",
    "print(evals[range(-1,-11,-1)])\n",
    "\n"
   ]
  },
  {
   "cell_type": "code",
   "execution_count": 74,
   "metadata": {},
   "outputs": [
    {
     "name": "stdout",
     "output_type": "stream",
     "text": [
      "[15.15454765 11.69482561 10.32592305  9.90056418  9.95292197  9.7530499\n",
      "  9.25219175  9.12309579  8.93042354  8.71064965]\n"
     ]
    }
   ],
   "source": [
    "\n",
    "\n",
    "V_T, mu_s = power_method(M,10,100)\n",
    "\n",
    "\n",
    "print(mu_s)"
   ]
  },
  {
   "cell_type": "code",
   "execution_count": 75,
   "metadata": {},
   "outputs": [
    {
     "name": "stdout",
     "output_type": "stream",
     "text": [
      "[3.4060245772776416e-11, 3.618968745565533e-06, 0.009194577471923478, 0.024766905747349317, 0.02288058312727909, 0.04620733890848414, 0.0492595791563369, 0.0848178556572693, 0.0868597470467658, 0.12367572420895566]\n",
      "[1.4142135623730951, 1.4142135623730945, 1.4142135623717602, 1.4142135622969043, 1.4142135623339784, 1.4142135586715225, 1.414213514188876, 1.414213525606388, 1.4142134352976992, 1.414213321693363]\n"
     ]
    }
   ],
   "source": [
    "largest_evecs = evecs[range(-1,-11,-1)]\n",
    "residuals = []\n",
    "diffs = []\n",
    "for i in range(10):\n",
    "    residual = residual_norm(M, V_T[i], mu_s[i])\n",
    "    residuals.append(residual)\n",
    "    diff = np.linalg.norm(largest_evecs[i]-V_T[i])\n",
    "    diffs.append(diff)\n",
    "print(residuals)\n",
    "print(diffs)\n",
    "\n",
    "\n"
   ]
  },
  {
   "cell_type": "code",
   "execution_count": 67,
   "metadata": {},
   "outputs": [
    {
     "data": {
      "text/plain": [
       "1.295833572422536"
      ]
     },
     "execution_count": 67,
     "metadata": {},
     "output_type": "execute_result"
    }
   ],
   "source": [
    "eval1/eval2"
   ]
  },
  {
   "cell_type": "code",
   "execution_count": 58,
   "metadata": {},
   "outputs": [
    {
     "name": "stdout",
     "output_type": "stream",
     "text": [
      "[0. 0. 0. ... 0. 0. 0.]\n",
      "[1.02238389e-17 3.17420128e-17 4.43083516e-17 ... 0.00000000e+00\n",
      " 0.00000000e+00 0.00000000e+00]\n"
     ]
    }
   ],
   "source": [
    "print(largest_evecs[0])\n",
    "print(V_T[0])"
   ]
  },
  {
   "cell_type": "code",
   "execution_count": 18,
   "metadata": {},
   "outputs": [
    {
     "data": {
      "text/plain": [
       "2"
      ]
     },
     "execution_count": 18,
     "metadata": {},
     "output_type": "execute_result"
    }
   ],
   "source": [
    "\n",
    "# check if the real and approximated eigenvector linearly dependent\n",
    "A = np.stack((v_2, evec2), axis=1)\n",
    "np.linalg.matrix_rank(A)\n",
    "\n"
   ]
  },
  {
   "cell_type": "code",
   "execution_count": 57,
   "metadata": {},
   "outputs": [
    {
     "name": "stdout",
     "output_type": "stream",
     "text": [
      "11.694825610284667\n"
     ]
    }
   ],
   "source": []
  },
  {
   "cell_type": "code",
   "execution_count": 7,
   "metadata": {},
   "outputs": [
    {
     "name": "stdout",
     "output_type": "stream",
     "text": [
      "11 1.0\n"
     ]
    }
   ],
   "source": [
    "for i in np.arange(len(evec1)):\n",
    "    x = evec1[i]\n",
    "    if x != 0.0:\n",
    "        print(i,x)"
   ]
  },
  {
   "cell_type": "code",
   "execution_count": 51,
   "metadata": {},
   "outputs": [
    {
     "name": "stdout",
     "output_type": "stream",
     "text": [
      "Iteration 50, residual norm: 0.002694597137400284\n",
      "Iteration 100, residual norm: 0.00023027591081764133\n",
      "Iteration 150, residual norm: 6.717010804712341e-05\n",
      "Iteration 200, residual norm: 0.00014071462095937545\n",
      "Iteration 250, residual norm: 0.00015732072384204554\n",
      "Iteration 300, residual norm: 0.00018789944059598136\n",
      "Iteration 350, residual norm: 1.0853296793970103e-06\n"
     ]
    }
   ],
   "source": [
    "for i in range(50,400,50):\n",
    "    v_2 = hotelling2(M, v, a, i)\n",
    "    a_2 = rayleigh_quotient(M, v_2)\n",
    "    norm = residual_norm(M, v_2, a_2)\n",
    "    print(f\"Iteration {i}, residual norm: {norm}\")\n",
    "    "
   ]
  },
  {
   "cell_type": "code",
   "execution_count": 49,
   "metadata": {},
   "outputs": [
    {
     "name": "stdout",
     "output_type": "stream",
     "text": [
      "Iteration: 100, residual norm: 1.0367997085054587e-07\n",
      "Iteration: 200, residual norm: 2.0375336947625995e-13\n",
      "Iteration: 300, residual norm: 5.551169297415832e-17\n",
      "Iteration: 400, residual norm: 5.551157474611588e-17\n",
      "Iteration: 500, residual norm: 5.551157474611588e-17\n",
      "Iteration: 600, residual norm: 5.551157474611588e-17\n",
      "Iteration: 700, residual norm: 5.551157474611588e-17\n",
      "Iteration: 800, residual norm: 5.551157474611588e-17\n",
      "Iteration: 900, residual norm: 5.551157474611588e-17\n"
     ]
    }
   ],
   "source": [
    "#print(f\"Real eigval: {eval1}\")\n",
    "\n",
    "\n",
    "for i in range(100,1000, 100):\n",
    "    v = power_iteration(M, i)\n",
    "    a = rayleigh_quotient(M, v)\n",
    "    norm = residual_norm(M, v, a)\n",
    "    print(f\"Iteration: {i}, residual norm: {norm}\")\n",
    "    #print(f\"Iteration: {i}, estimated eigval: {a}, residual norm: {norm}\")\n",
    "    \n",
    "    "
   ]
  },
  {
   "cell_type": "markdown",
   "metadata": {},
   "source": []
  }
 ],
 "metadata": {
  "kernelspec": {
   "display_name": "Python 3.8.10 64-bit",
   "language": "python",
   "name": "python3"
  },
  "language_info": {
   "codemirror_mode": {
    "name": "ipython",
    "version": 3
   },
   "file_extension": ".py",
   "mimetype": "text/x-python",
   "name": "python",
   "nbconvert_exporter": "python",
   "pygments_lexer": "ipython3",
   "version": "3.8.10"
  },
  "orig_nbformat": 4,
  "vscode": {
   "interpreter": {
    "hash": "916dbcbb3f70747c44a77c7bcd40155683ae19c65e1c03b4aa3499c5328201f1"
   }
  }
 },
 "nbformat": 4,
 "nbformat_minor": 2
}
