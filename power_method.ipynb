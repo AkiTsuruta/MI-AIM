{
 "cells": [
  {
   "cell_type": "markdown",
   "metadata": {},
   "source": [
    "Power Method\n",
    "-------------"
   ]
  },
  {
   "cell_type": "code",
   "execution_count": 1,
   "metadata": {},
   "outputs": [],
   "source": [
    "import numpy as np\n",
    "import xarray as xr\n",
    "\n",
    "\n",
    "ds_1 = xr.open_dataset(\"data/regions_verify_isotope_202112_cov.nc\")\n",
    "bio_1 = ds_1[\"covariance_bio\"]\n",
    "anth_1 = ds_1[\"covariance_anth\"]\n",
    "\n",
    "ds_2 = xr.open_dataset(\"data/regions_verify_202104_cov.nc\")\n",
    "bio_2 = ds_2[\"covariance_bio\"]\n",
    "anth_2 = ds_2[\"covariance_anth\"]\n"
   ]
  },
  {
   "cell_type": "markdown",
   "metadata": {},
   "source": [
    "Functions that compute:\n",
    "* the approximative, normalized eigenvector corresponding to the eigenvalue of largest magnitude (function from Wikipedia)\n",
    "* the eigenvalue corresponding to given, normalized eigenvector (my own code)\n",
    "* diagnostics to see how well the power method performs (my own code)"
   ]
  },
  {
   "cell_type": "code",
   "execution_count": 2,
   "metadata": {},
   "outputs": [],
   "source": [
    "#!/usr/bin/env python3\n",
    "\n",
    "import numpy as np\n",
    "\n",
    "def power_iteration(A, num_simulations: int):\n",
    "    #From: https://en.wikipedia.org/wiki/Power_iteration\n",
    "    # Retrieved: 8.9.2022\n",
    "    # Ideally choose a random vector\n",
    "    # To decrease the chance that our vector\n",
    "    # Is orthogonal to the eigenvector\n",
    "    b_k = np.random.rand(A.shape[1])\n",
    "\n",
    "    for _ in range(num_simulations):\n",
    "        # calculate the matrix-by-vector product Ab\n",
    "        b_k1 = np.dot(A, b_k)\n",
    "\n",
    "        # calculate the norm\n",
    "        b_k1_norm = np.linalg.norm(b_k1)\n",
    "\n",
    "        # re normalize the vector\n",
    "        b_k = b_k1 / b_k1_norm\n",
    "\n",
    "    return b_k\n",
    "\n",
    "def rayleigh_quotient(A, v):\n",
    "    \"\"\"Function computes the rayleigh quotient for 2-d numpy array A and normalized vector v.\n",
    "    (Because v normalized, the denominator v.T.dot(v)=1, and can thus be omitted.)\n",
    "    If v is an eigenvector of A, the quotient gives the corresponding eigenvalue.\"\"\"\n",
    "    a = v.T.dot(A).dot(v)\n",
    "    return a\n",
    "\n",
    "def residual_norm(A, v, a):\n",
    "    \"\"\"Compute the 2-norm of the residual vector r = Av-av, where\n",
    "    A is a 2-d numpy array, v an approximated eigenvector and a is an approximation of\n",
    "    corresponding eigenvalue. Can be used to evaluate the accuracy of the estimated\n",
    "    eigenvector and -value.\"\"\"\n",
    "    r = A.dot(v)-a*v\n",
    "    norm = np.linalg.norm(r)\n",
    "    return norm"
   ]
  },
  {
   "cell_type": "markdown",
   "metadata": {},
   "source": [
    "Hotelling's deflation\n",
    "-----------------------\n",
    "A method for finding the next eigenvectors after the first one "
   ]
  },
  {
   "cell_type": "code",
   "execution_count": 3,
   "metadata": {},
   "outputs": [],
   "source": [
    "\n",
    "def hotelling(A, v, a, num_simulations):\n",
    "    \"\"\"GIVES WRONG RESULT FOR SOME REASON\n",
    "    Function to compute the following eigenvector after the\n",
    "    one with largest corresponding eigenvalue has been computed.\n",
    "    Function utilizes Hotelling's method.\n",
    "    Parameters:\n",
    "    A : 2D array\n",
    "    v : 1D array. Eigenvector corresponding to the largest eigenvalue of A. \n",
    "    a : float. Largest eigenvalue of A.\n",
    "    num_simulations : int\"\"\"\n",
    "    b_k = np.random.rand(A.shape[1])\n",
    "\n",
    "    for i in range(num_simulations):\n",
    "        b_k1 = A.dot(b_k)-a*v.dot(v.T.dot(b_k))\n",
    "\n",
    "        norm = np.linalg.norm(b_k1)\n",
    "\n",
    "        #normalize\n",
    "        b_k = b_k1 / norm\n",
    "\n",
    "    return b_k\n",
    "\n",
    "\n",
    "\n",
    "\n"
   ]
  },
  {
   "cell_type": "code",
   "execution_count": 12,
   "metadata": {},
   "outputs": [
    {
     "name": "stdout",
     "output_type": "stream",
     "text": [
      "[ 3.86778237e-33  1.01667941e-15  6.81441966e-07  1.00000000e+00\n",
      " -2.92940314e-06]\n"
     ]
    }
   ],
   "source": [
    "M = np.diag([1,2,3,4,5])\n",
    "\n",
    "v = power_iteration(M, 50)\n",
    "a = rayleigh_quotient(M,v)\n",
    "v_2 = hotelling(M,v,a,50)\n",
    "\n",
    "print(v_2)"
   ]
  },
  {
   "cell_type": "code",
   "execution_count": 10,
   "metadata": {},
   "outputs": [
    {
     "data": {
      "text/plain": [
       "array([ 1.33333333, -1.33333333,  2.66666667])"
      ]
     },
     "execution_count": 10,
     "metadata": {},
     "output_type": "execute_result"
    }
   ],
   "source": [
    "#test if proj and perp work as they should\n",
    "\n",
    "v = np.array([3,-1,2])\n",
    "w1 = np.array([1,1,0])\n",
    "w2 = np.array([-1,1,1])\n",
    "ws = [w1, w2]\n",
    "\n",
    "perp(v,ws)\n",
    "\n"
   ]
  },
  {
   "cell_type": "code",
   "execution_count": null,
   "metadata": {},
   "outputs": [],
   "source": [
    "def proj(v,w):\n",
    "    \"\"\"Compute the projection of v onto span(w).\n",
    "    Parameters: v : list or 1-d numpy array\n",
    "                w : list or 1-d numpy array\"\"\"\n",
    "    p = v.dot(w)/(w.dot(w))*w\n",
    "    return p\n",
    "\n",
    "def perp(v, ws):\n",
    "    \"\"\"Compute the kohtisuora komponentti of v against subspace span(ws)\n",
    "    Parameters: v : list or 1-d numpy array\n",
    "                ws : a list of lists or 1-d numpy arrays. These have to\n",
    "                be orthogonal\"\"\"\n",
    "    projections = [proj(v,w) for w in ws]\n",
    "    return v-np.sum(projections, axis=0)\n"
   ]
  },
  {
   "cell_type": "markdown",
   "metadata": {},
   "source": [
    "Below the \"real\" eigenvalues and eigenvectors\n",
    "----------------------------------------------"
   ]
  },
  {
   "cell_type": "code",
   "execution_count": 13,
   "metadata": {},
   "outputs": [
    {
     "name": "stdout",
     "output_type": "stream",
     "text": [
      "[ 3.86778237e-33  1.01667941e-15  6.81441966e-07  1.00000000e+00\n",
      " -2.92940314e-06]\n",
      "5.0\n",
      "4.0\n",
      "[0. 0. 0. 1. 0.]\n"
     ]
    }
   ],
   "source": [
    "\n",
    "\n",
    "#compute eigenvalues and eigenvectors of M. Note: np.linalg.eigh gives eigenvalues in ascending order, \n",
    "# so the largest is last, and so is the corresponding eigenvector. \n",
    "# (NOTE: Don't need to worry abot how the order treats negative values as all eigenvalues of a positive semidefinite matrix are nonnegative)\n",
    "\n",
    "evals, evecs = np.linalg.eigh(M) \n",
    "#largest eigenvalue and corresponding evec\n",
    "eval1, evec1 = evals[-1], evecs[-1]\n",
    "#second largest\n",
    "eval2, evec2 = evals[-2], evecs[-2]\n",
    "\n",
    "print(v_2)\n",
    "print(eval1)\n",
    "print(eval2)\n",
    "print(evec2[:])\n"
   ]
  },
  {
   "cell_type": "code",
   "execution_count": 7,
   "metadata": {},
   "outputs": [
    {
     "name": "stdout",
     "output_type": "stream",
     "text": [
      "11 1.0\n"
     ]
    }
   ],
   "source": [
    "for i in np.arange(len(evec1)):\n",
    "    x = evec1[i]\n",
    "    if x != 0.0:\n",
    "        print(i,x)"
   ]
  },
  {
   "cell_type": "code",
   "execution_count": 12,
   "metadata": {},
   "outputs": [
    {
     "ename": "TypeError",
     "evalue": "dot only operates on DataArrays.",
     "output_type": "error",
     "traceback": [
      "\u001b[0;31m---------------------------------------------------------------------------\u001b[0m",
      "\u001b[0;31mTypeError\u001b[0m                                 Traceback (most recent call last)",
      "\u001b[1;32m/home/pietaril/Matrix_Inv/MI-AIM/power_method.ipynb Cell 8\u001b[0m in \u001b[0;36m<cell line: 1>\u001b[0;34m()\u001b[0m\n\u001b[0;32m----> <a href='vscode-notebook-cell:/home/pietaril/Matrix_Inv/MI-AIM/power_method.ipynb#X15sZmlsZQ%3D%3D?line=0'>1</a>\u001b[0m \u001b[39mprint\u001b[39m(M\u001b[39m.\u001b[39;49mdot(power_iteration(M,\u001b[39m5\u001b[39;49m)))\n",
      "File \u001b[0;32m~/.local/lib/python3.8/site-packages/xarray/core/dataarray.py:3369\u001b[0m, in \u001b[0;36mDataArray.dot\u001b[0;34m(self, other, dims)\u001b[0m\n\u001b[1;32m   3365\u001b[0m     \u001b[39mraise\u001b[39;00m \u001b[39mNotImplementedError\u001b[39;00m(\n\u001b[1;32m   3366\u001b[0m         \u001b[39m\"\u001b[39m\u001b[39mdot products are not yet supported with Dataset objects.\u001b[39m\u001b[39m\"\u001b[39m\n\u001b[1;32m   3367\u001b[0m     )\n\u001b[1;32m   3368\u001b[0m \u001b[39mif\u001b[39;00m \u001b[39mnot\u001b[39;00m \u001b[39misinstance\u001b[39m(other, DataArray):\n\u001b[0;32m-> 3369\u001b[0m     \u001b[39mraise\u001b[39;00m \u001b[39mTypeError\u001b[39;00m(\u001b[39m\"\u001b[39m\u001b[39mdot only operates on DataArrays.\u001b[39m\u001b[39m\"\u001b[39m)\n\u001b[1;32m   3371\u001b[0m \u001b[39mreturn\u001b[39;00m computation\u001b[39m.\u001b[39mdot(\u001b[39mself\u001b[39m, other, dims\u001b[39m=\u001b[39mdims)\n",
      "\u001b[0;31mTypeError\u001b[0m: dot only operates on DataArrays."
     ]
    }
   ],
   "source": []
  },
  {
   "cell_type": "code",
   "execution_count": 16,
   "metadata": {},
   "outputs": [
    {
     "name": "stdout",
     "output_type": "stream",
     "text": [
      "residual norm: 642006.4674358666\n",
      "residual norm: 2.0196493069835415\n",
      "residual norm: 0.5447581433695631\n",
      "residual norm: 0.11979459428156726\n",
      "residual norm: 0.034124300627580824\n",
      "residual norm: 0.008680534135338232\n",
      "residual norm: 0.0029183860978654543\n",
      "residual norm: 0.0007452193817419561\n",
      "residual norm: 0.0001947527931012749\n",
      "residual norm: 6.003346070176393e-05\n"
     ]
    }
   ],
   "source": [
    "#print(f\"Real eigval: {eval1}\")\n",
    "\n",
    "\n",
    "for i in range(0,50, 5):\n",
    "    v = power_iteration(M, i)\n",
    "    a = rayleigh_quotient(M, v)\n",
    "    norm = residual_norm(M, v, a)\n",
    "    print(f\"residual norm: {norm}\")\n",
    "    #print(f\"Iteration: {i}, estimated eigval: {a}, residual norm: {norm}\")\n",
    "    \n",
    "    "
   ]
  },
  {
   "cell_type": "markdown",
   "metadata": {},
   "source": []
  }
 ],
 "metadata": {
  "kernelspec": {
   "display_name": "Python 3.8.10 64-bit",
   "language": "python",
   "name": "python3"
  },
  "language_info": {
   "codemirror_mode": {
    "name": "ipython",
    "version": 3
   },
   "file_extension": ".py",
   "mimetype": "text/x-python",
   "name": "python",
   "nbconvert_exporter": "python",
   "pygments_lexer": "ipython3",
   "version": "3.8.10"
  },
  "orig_nbformat": 4,
  "vscode": {
   "interpreter": {
    "hash": "916dbcbb3f70747c44a77c7bcd40155683ae19c65e1c03b4aa3499c5328201f1"
   }
  }
 },
 "nbformat": 4,
 "nbformat_minor": 2
}
