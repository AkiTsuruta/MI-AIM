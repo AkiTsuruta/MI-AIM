{
 "cells": [
  {
   "cell_type": "markdown",
   "metadata": {},
   "source": [
    "\n",
    "Multiprocessing module, Pool class\n"
   ]
  },
  {
   "cell_type": "code",
   "execution_count": 3,
   "metadata": {},
   "outputs": [
    {
     "name": "stdout",
     "output_type": "stream",
     "text": [
      "8\n",
      "[0, 1, 4, 9, 16, 25, 36, 49, 64, 81, 100, 121, 144, 169, 196, 225, 256, 289, 324, 361]\n"
     ]
    }
   ],
   "source": [
    "import multiprocessing as mp\n",
    "\n",
    "ncores = mp.cpu_count() #number of available cores\n",
    "print(ncores)\n",
    "\n",
    "\n",
    "pool = mp.Pool()\n",
    "\n",
    "# let's define a function for calculating the square of an imput and parallelize\n",
    "\n",
    "def square(x):\n",
    "    return x * x\n",
    "\n",
    "result = pool.map(square, range(20))\n",
    "print(result)\n",
    "\n",
    "\n"
   ]
  },
  {
   "cell_type": "markdown",
   "metadata": {},
   "source": [
    "Multiprocessing module, Process and Queue classes"
   ]
  },
  {
   "cell_type": "code",
   "execution_count": 4,
   "metadata": {},
   "outputs": [
    {
     "name": "stdout",
     "output_type": "stream",
     "text": [
      "25\n",
      "25\n",
      "[4, 9, 16, 25, 36, 49, 64, 81]\n"
     ]
    }
   ],
   "source": [
    "\n",
    "# the Process class on its own cannot be used to save results, only print\n",
    "\n",
    "def print_square(x):\n",
    "    print(x * x)\n",
    "\n",
    "p = mp.Process(target=print_square, args=(5,))\n",
    "p.start()\n",
    "p.join()\n",
    "\n",
    "# for saving we need the help of Queue class\n",
    "\n",
    "def return_square(x, q):\n",
    "    q.put(x * x) # deposit data\n",
    "\n",
    "\n",
    "q_out = mp.Queue() # create a Queue object to save the result in\n",
    "p = mp.Process(target=return_square, args=(5, q_out))\n",
    "p.start()\n",
    "p.join() # end process\n",
    "\n",
    "result = q_out.get() # retrieve data\n",
    "print(result)\n",
    "\n",
    "\n",
    "# Create multiple parallelized processes\n",
    "\n",
    "processes = [mp.Process(target=return_square, args=(i, q_out))\n",
    "             for i in range(2, 10)]\n",
    "\n",
    "for p in processes:\n",
    "    p.start()\n",
    "\n",
    "for p in processes:\n",
    "    p.join()\n",
    "\n",
    "result = [q_out.get() for p in processes]\n",
    "print(result)\n",
    "\n",
    "#OBS! the values in the Queue object will be stored in the order \n",
    "# in which the individual processes finish -> NOT NECESSARILY THE SAME ORDER AS IN INPUT\n",
    "# A way to keep the order in KTH blogpost mp part 2"
   ]
  }
 ],
 "metadata": {
  "kernelspec": {
   "display_name": "Python 3.8.10 64-bit",
   "language": "python",
   "name": "python3"
  },
  "language_info": {
   "codemirror_mode": {
    "name": "ipython",
    "version": 3
   },
   "file_extension": ".py",
   "mimetype": "text/x-python",
   "name": "python",
   "nbconvert_exporter": "python",
   "pygments_lexer": "ipython3",
   "version": "3.8.10"
  },
  "orig_nbformat": 4,
  "vscode": {
   "interpreter": {
    "hash": "916dbcbb3f70747c44a77c7bcd40155683ae19c65e1c03b4aa3499c5328201f1"
   }
  }
 },
 "nbformat": 4,
 "nbformat_minor": 2
}
