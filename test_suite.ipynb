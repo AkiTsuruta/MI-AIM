{
 "cells": [
  {
   "cell_type": "markdown",
   "metadata": {},
   "source": [
    "Timing test suite.\n",
    "\n",
    "In the following cell: setting up\n",
    "* imports\n",
    "* reading data\n",
    "* defining different functions that we want to time\n"
   ]
  },
  {
   "cell_type": "code",
   "execution_count": 12,
   "metadata": {},
   "outputs": [
    {
     "name": "stdout",
     "output_type": "stream",
     "text": [
      "[[ True  True  True ...  True  True  True]\n",
      " [ True  True  True ...  True  True  True]\n",
      " [ True  True  True ...  True  True  True]\n",
      " ...\n",
      " [ True  True  True ...  True  True  True]\n",
      " [ True  True  True ...  True  True  True]\n",
      " [ True  True  True ...  True  True  True]]\n"
     ]
    }
   ],
   "source": [
    "import numpy as np\n",
    "import xarray as xr\n",
    "import scipy as sp\n",
    "from blockinv_iterative import block_inv, block_iter_inv\n",
    "from blockinv_iterative_symmetric import block_inv_s\n",
    "\n",
    "\n",
    "ds_1 = xr.open_dataset(\"data/regions_verify_isotope_202112_cov.nc\")\n",
    "bio_1 = ds_1[\"covariance_bio\"]\n",
    "anth_1 = ds_1[\"covariance_anth\"]\n",
    "\n",
    "ds_2 = xr.open_dataset(\"data/regions_verify_202104_cov.nc\")\n",
    "bio_2 = ds_2[\"covariance_bio\"]\n",
    "anth_2 = ds_2[\"covariance_anth\"]\n",
    "\n",
    "M = bio_2.to_numpy()\n",
    "\n",
    "print(M == np.transpose(M))"
   ]
  },
  {
   "cell_type": "markdown",
   "metadata": {},
   "source": [
    "Matrix inv accuracy test"
   ]
  },
  {
   "cell_type": "code",
   "execution_count": 13,
   "metadata": {},
   "outputs": [
    {
     "ename": "NameError",
     "evalue": "name 'np' is not defined",
     "output_type": "error",
     "traceback": [
      "\u001b[0;31m---------------------------------------------------------------------------\u001b[0m",
      "\u001b[0;31mNameError\u001b[0m                                 Traceback (most recent call last)",
      "\u001b[1;32m/home/pietaril/Matrix_Inv/MI-AIM/test_suite.ipynb Cell 4\u001b[0m in \u001b[0;36m<cell line: 6>\u001b[0;34m()\u001b[0m\n\u001b[1;32m      <a href='vscode-notebook-cell:/home/pietaril/Matrix_Inv/MI-AIM/test_suite.ipynb#ch0000003?line=3'>4</a>\u001b[0m inv2 \u001b[39m=\u001b[39m block_inv(M,k)\n\u001b[1;32m      <a href='vscode-notebook-cell:/home/pietaril/Matrix_Inv/MI-AIM/test_suite.ipynb#ch0000003?line=4'>5</a>\u001b[0m \u001b[39m#inv3 = block_iter_inv(M, 7)\u001b[39;00m\n\u001b[0;32m----> <a href='vscode-notebook-cell:/home/pietaril/Matrix_Inv/MI-AIM/test_suite.ipynb#ch0000003?line=5'>6</a>\u001b[0m inv4 \u001b[39m=\u001b[39m block_inv_s(M, k)\n\u001b[1;32m      <a href='vscode-notebook-cell:/home/pietaril/Matrix_Inv/MI-AIM/test_suite.ipynb#ch0000003?line=7'>8</a>\u001b[0m \u001b[39mprint\u001b[39m(np\u001b[39m.\u001b[39mallclose(inv1, inv2), np\u001b[39m.\u001b[39mallclose(inv1, inv4))\n",
      "File \u001b[0;32m~/Matrix_Inv/MI-AIM/blockinv_iterative_symmetric.py:9\u001b[0m, in \u001b[0;36mblock_inv_s\u001b[0;34m(M, idx)\u001b[0m\n\u001b[1;32m      7\u001b[0m n \u001b[39m=\u001b[39m \u001b[39mlen\u001b[39m(M)\n\u001b[1;32m      8\u001b[0m E, F, G, H \u001b[39m=\u001b[39m M[\u001b[39m0\u001b[39m:idx, \u001b[39m0\u001b[39m:idx], M[\u001b[39m0\u001b[39m:idx, idx:n],  M[idx:n, \u001b[39m0\u001b[39m:idx], M[idx:n, idx:n]  \u001b[39m# E on nyt idx * idx -matriisi\u001b[39;00m\n\u001b[0;32m----> 9\u001b[0m E \u001b[39m=\u001b[39m np\u001b[39m.\u001b[39mlinalg\u001b[39m.\u001b[39minv(E) \u001b[39m# tässä kohtaa voisi myös kokeilla lukea nuo muut samalla kun kääntää E:n?\u001b[39;00m\n\u001b[1;32m     10\u001b[0m F \u001b[39m=\u001b[39m \u001b[39m-\u001b[39mE\u001b[39m@F\u001b[39m\n\u001b[1;32m     11\u001b[0m H \u001b[39m=\u001b[39m H\u001b[39m+\u001b[39mG\u001b[39m@F\u001b[39m\n",
      "\u001b[0;31mNameError\u001b[0m: name 'np' is not defined"
     ]
    }
   ],
   "source": [
    "k = int(len(M)/2)\n",
    "\n",
    "inv1 = np.linalg.inv(M)\n",
    "inv2 = block_inv(M,k)\n",
    "#inv3 = block_iter_inv(M, 7)\n",
    "inv4 = block_inv_s(M, k)\n",
    "\n",
    "print(np.allclose(inv1, inv2), np.allclose(inv1, inv4))"
   ]
  },
  {
   "cell_type": "markdown",
   "metadata": {},
   "source": [
    "Matrix inv timer"
   ]
  },
  {
   "cell_type": "code",
   "execution_count": null,
   "metadata": {},
   "outputs": [
    {
     "name": "stdout",
     "output_type": "stream",
     "text": [
      "6.79 s ± 1.72 s per loop (mean ± std. dev. of 7 runs, 1 loop each)\n",
      "8.19 s ± 265 ms per loop (mean ± std. dev. of 7 runs, 1 loop each)\n"
     ]
    }
   ],
   "source": [
    "\n",
    "\n",
    "%timeit np.linalg.inv(M)\n",
    "%timeit block_inv(M,k)\n",
    "%timeit block_inv_s(M,k)\n",
    "\n",
    "\n"
   ]
  },
  {
   "cell_type": "code",
   "execution_count": null,
   "metadata": {},
   "outputs": [
    {
     "name": "stdout",
     "output_type": "stream",
     "text": [
      "6.08 ns ± 0.053 ns per loop (mean ± std. dev. of 7 runs, 100,000,000 loops each)\n"
     ]
    }
   ],
   "source": [
    "%timeit 2+5\n"
   ]
  }
 ],
 "metadata": {
  "kernelspec": {
   "display_name": "Python 3.8.10 64-bit",
   "language": "python",
   "name": "python3"
  },
  "language_info": {
   "codemirror_mode": {
    "name": "ipython",
    "version": 3
   },
   "file_extension": ".py",
   "mimetype": "text/x-python",
   "name": "python",
   "nbconvert_exporter": "python",
   "pygments_lexer": "ipython3",
   "version": "3.8.10"
  },
  "orig_nbformat": 4,
  "vscode": {
   "interpreter": {
    "hash": "916dbcbb3f70747c44a77c7bcd40155683ae19c65e1c03b4aa3499c5328201f1"
   }
  }
 },
 "nbformat": 4,
 "nbformat_minor": 2
}
