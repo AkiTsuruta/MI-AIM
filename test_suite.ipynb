{
 "cells": [
  {
   "cell_type": "markdown",
   "metadata": {},
   "source": [
    "Timing test suite.\n",
    "\n",
    "In the following cell: setting up\n",
    "* imports\n",
    "* reading data\n",
    "* defining different functions that we want to time\n"
   ]
  },
  {
   "cell_type": "code",
   "execution_count": 1,
   "metadata": {},
   "outputs": [],
   "source": [
    "import numpy as np\n",
    "invm = np.linalg.inv\n",
    "import xarray as xr\n",
    "from blockinv_iterative import block_iter_inv_fbm, block_iter_inv_fdm, block_iter_inv_fdi\n",
    "from blockinv_iterative_symmetric import block_inv_s, block_iter_inv_s, block_iter_inv_s2\n",
    "\n",
    "\n",
    "ds_1 = xr.open_dataset(\"data/regions_verify_isotope_202112_cov.nc\")\n",
    "bio_1 = ds_1[\"covariance_bio\"]\n",
    "anth_1 = ds_1[\"covariance_anth\"]\n",
    "\n",
    "ds_2 = xr.open_dataset(\"data/regions_verify_202104_cov.nc\")\n",
    "bio_2 = ds_2[\"covariance_bio\"]\n",
    "anth_2 = ds_2[\"covariance_anth\"]\n",
    "\n",
    "M = bio_2.to_numpy()\n",
    "\n"
   ]
  },
  {
   "cell_type": "markdown",
   "metadata": {},
   "source": [
    "Matrix inv accuracy test"
   ]
  },
  {
   "cell_type": "code",
   "execution_count": 2,
   "metadata": {},
   "outputs": [
    {
     "name": "stdout",
     "output_type": "stream",
     "text": [
      "True True\n"
     ]
    }
   ],
   "source": [
    "k = int(len(M)/2)\n",
    "\n",
    "inv1 = invm(M)\n",
    "#inv2 = block_iter_inv_fdi(M, 5)\n",
    "#inv3 = block_iter_inv_fdm(M, 5)\n",
    "#inv4 = block_iter_inv_fbm(M, 5)\n",
    "inv4 = block_iter_inv_s(M, 5)\n",
    "inv5 = block_iter_inv_s2(M,5)\n",
    "\n",
    "print(np.allclose(inv1, inv4), np.allclose(inv1, inv5))"
   ]
  },
  {
   "cell_type": "markdown",
   "metadata": {},
   "source": [
    "Timer"
   ]
  },
  {
   "cell_type": "code",
   "execution_count": 6,
   "metadata": {},
   "outputs": [
    {
     "name": "stdout",
     "output_type": "stream",
     "text": [
      "4.41 s ± 231 ms per loop (mean ± std. dev. of 7 runs, 1 loop each)\n",
      "8.8 s ± 2.19 s per loop (mean ± std. dev. of 7 runs, 1 loop each)\n"
     ]
    }
   ],
   "source": [
    "\n",
    "\n",
    "# time_d = %timeit -r 7 -n 25 -o invm(M)\n",
    "# time_fdi = %timeit -r 7 -n 25 -o block_iter_inv_fdi(M,5)\n",
    "# time_fdm = %timeit -r 7 -n 25 -o block_iter_inv_fdm(M,5)\n",
    "# time_fbm = %timeit -r 7 -n 25 -o block_iter_inv_fbm(M,5)\n",
    "\n",
    "%timeit block_iter_inv_s2(M,5)\n",
    "%timeit block_iter_inv_s(M,5)\n",
    "\n",
    "\n"
   ]
  },
  {
   "cell_type": "markdown",
   "metadata": {},
   "source": [
    "Timer results \n",
    "\n",
    "As far as I've understood, the timer runs -r <R> number of times and loops within each run -n <N> times, picking the minimum of those N loops.\n",
    "So, to get accurate results, N should be rather large! \n",
    "\n",
    "BUT: FOR SOME REASON INCREASING NUMBER OF LOOPS ALSO SEEMS TO MAKE THE TIME LONGER, WHY? (e.g. s2: 7 runs 1 loop: 4.41 s ± 231 ms)\n",
    "\n",
    "with M = bio_2.to_numpy(): \n",
    "\n",
    "np.linalg.inv:\n",
    "* 8.57 s ± 358 ms per loop (mean ± std. dev. of 7 runs, 25 loops each)\n",
    "\n",
    "block_iter_inv(M,5) [with for-loop, ind assigns, calls np.linalg.inv]\n",
    "* 7.42 s ± 141 ms per loop (mean ± std. dev. of 7 runs, 25 loops each)\n",
    "\n",
    "block_iter_inv(M,5) [with for-loop, multiple assign, calls np.linalg.inv] \n",
    "* 7.65 s ± 306 ms per loop (mean ± std. dev. of 7 runs, 25 loops each)\n",
    "\n",
    "block_iter_inv(M,5) [with for-loop, multiple assign, calls block_inv]\n",
    "* 7.86 s ± 391 ms per loop (mean ± std. dev. of 7 runs, 25 loops each)\n",
    "\n",
    "block_iter_inv_s(M,5) [symmetric, uses transpose, with for & ind & def]\n",
    "* 10.9 s ± 744 ms per loop (mean ± std. dev. of 7 runs, 25 loops each)\n",
    "\n",
    "block_iter_invs2(M,5) [symmetric, no transpose, with for & ind & def]\n",
    "* 7.87 s ± 565 ms per loop (mean ± std. dev. of 7 runs, 25 loops each)\n",
    "\n",
    "\n",
    "\n",
    "\n",
    "Older results with 10 runs, 10 loops:\n",
    "\n",
    "default invm: 8.54 s ± 1.48 s per loop (mean ± std. dev. of 10 runs, 10 loops each)\n",
    "\n",
    "block_iter_inv(M,5):\n",
    "    * with for-loop and block_inv: 6.79 s ± 432 ms per loop (mean ± std. dev. of 10 runs, 10 loops each)\n",
    "    * with for-loop and default inv: 7.52 s ± 1.31 s per loop (mean ± std. dev. of 10 runs, 10 loops each)\n",
    "\n",
    "\n",
    "block_iter_inv_w(M,5), version using while-loop and block_inv: 7.1 s ± 392 ms per loop (mean ± std. dev. of 10 runs, 10 loops each)"
   ]
  },
  {
   "cell_type": "code",
   "execution_count": null,
   "metadata": {},
   "outputs": [],
   "source": []
  }
 ],
 "metadata": {
  "kernelspec": {
   "display_name": "Python 3.8.10 64-bit",
   "language": "python",
   "name": "python3"
  },
  "language_info": {
   "codemirror_mode": {
    "name": "ipython",
    "version": 3
   },
   "file_extension": ".py",
   "mimetype": "text/x-python",
   "name": "python",
   "nbconvert_exporter": "python",
   "pygments_lexer": "ipython3",
   "version": "3.8.10"
  },
  "orig_nbformat": 4,
  "vscode": {
   "interpreter": {
    "hash": "916dbcbb3f70747c44a77c7bcd40155683ae19c65e1c03b4aa3499c5328201f1"
   }
  }
 },
 "nbformat": 4,
 "nbformat_minor": 2
}
