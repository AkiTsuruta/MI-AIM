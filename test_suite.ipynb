{
 "cells": [
  {
   "cell_type": "markdown",
   "metadata": {},
   "source": [
    "Timing test suite.\n",
    "\n",
    "In the following cell: setting up\n",
    "* imports\n",
    "* reading data\n",
    "* defining different functions that we want to time\n"
   ]
  },
  {
   "cell_type": "code",
   "execution_count": 1,
   "metadata": {},
   "outputs": [],
   "source": [
    "import numpy as np\n",
    "invm = np.linalg.inv\n",
    "import xarray as xr\n",
    "from blockinv_iterative import block_iter_inv\n",
    "from blockinv_iterative_symmetric import block_inv_s\n",
    "\n",
    "\n",
    "ds_1 = xr.open_dataset(\"data/regions_verify_isotope_202112_cov.nc\")\n",
    "bio_1 = ds_1[\"covariance_bio\"]\n",
    "anth_1 = ds_1[\"covariance_anth\"]\n",
    "\n",
    "ds_2 = xr.open_dataset(\"data/regions_verify_202104_cov.nc\")\n",
    "bio_2 = ds_2[\"covariance_bio\"]\n",
    "anth_2 = ds_2[\"covariance_anth\"]\n",
    "\n",
    "M = bio_2.to_numpy()\n",
    "\n"
   ]
  },
  {
   "cell_type": "markdown",
   "metadata": {},
   "source": [
    "Matrix inv accuracy test"
   ]
  },
  {
   "cell_type": "code",
   "execution_count": 2,
   "metadata": {},
   "outputs": [
    {
     "name": "stdout",
     "output_type": "stream",
     "text": [
      "True\n"
     ]
    }
   ],
   "source": [
    "k = int(len(M)/2)\n",
    "\n",
    "inv1 = invm(M)\n",
    "inv2 = block_iter_inv(M, 5)\n",
    "#inv4 = block_inv_s(M, k)\n",
    "\n",
    "print(np.allclose(inv1, inv2))"
   ]
  },
  {
   "cell_type": "markdown",
   "metadata": {},
   "source": [
    "Timer"
   ]
  },
  {
   "cell_type": "code",
   "execution_count": 3,
   "metadata": {},
   "outputs": [
    {
     "name": "stdout",
     "output_type": "stream",
     "text": [
      "7.52 s ± 1.31 s per loop (mean ± std. dev. of 10 runs, 10 loops each)\n"
     ]
    }
   ],
   "source": [
    "\n",
    "\n",
    "#time_d = %timeit -r 10 -n 10 -o invm(M)\n",
    "#time_f = %timeit -r 10 -n 10 -o block_iter_inv_f(M,5)\n",
    "#time_w = %timeit -r 10 -n 10 -o block_iter_inv_w(M,5)\n",
    "\n",
    "time_fd = %timeit -r 10 -n 10 -o block_iter_inv(M,5)\n",
    "\n",
    "\n"
   ]
  },
  {
   "cell_type": "markdown",
   "metadata": {},
   "source": [
    "Timer results \n",
    "\n",
    "As far as I've understood, the timer runs -r <R> number of times and loops within each run -n <N> times, picking the minimum of those N loops.\n",
    "So, to get accurate results, N should be rather large! \n",
    "\n",
    "with M = bio_2.to_numpy(): \n",
    "\n",
    "default invm: 8.54 s ± 1.48 s per loop (mean ± std. dev. of 10 runs, 10 loops each)\n",
    "\n",
    "block_iter_inv(M,5):\n",
    "    * with for-loop and block_inv: 6.79 s ± 432 ms per loop (mean ± std. dev. of 10 runs, 10 loops each)\n",
    "    * with for-loop and default inv: 7.52 s ± 1.31 s per loop (mean ± std. dev. of 10 runs, 10 loops each)\n",
    "\n",
    "\n",
    "block_iter_inv_w(M,5), version using while-loop and block_inv: 7.1 s ± 392 ms per loop (mean ± std. dev. of 10 runs, 10 loops each)"
   ]
  },
  {
   "cell_type": "code",
   "execution_count": null,
   "metadata": {},
   "outputs": [],
   "source": []
  }
 ],
 "metadata": {
  "kernelspec": {
   "display_name": "Python 3.8.10 64-bit",
   "language": "python",
   "name": "python3"
  },
  "language_info": {
   "codemirror_mode": {
    "name": "ipython",
    "version": 3
   },
   "file_extension": ".py",
   "mimetype": "text/x-python",
   "name": "python",
   "nbconvert_exporter": "python",
   "pygments_lexer": "ipython3",
   "version": "3.8.10"
  },
  "orig_nbformat": 4,
  "vscode": {
   "interpreter": {
    "hash": "916dbcbb3f70747c44a77c7bcd40155683ae19c65e1c03b4aa3499c5328201f1"
   }
  }
 },
 "nbformat": 4,
 "nbformat_minor": 2
}
