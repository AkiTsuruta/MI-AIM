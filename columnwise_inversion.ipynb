{
 "cells": [
  {
   "cell_type": "markdown",
   "metadata": {},
   "source": [
    "Columnwise estimation method for inverse Cov\n",
    "---------------------------------------------\n",
    "\n",
    "* The idea:\n",
    "\n",
    "Ax_k = e_k ->  x_k = A^(-1)e_k\n",
    "\n",
    "Solve x_k\n",
    "\n",
    "* Thoughts\n",
    "\n",
    "Pitäisi olla yksikäsitteinen ratk, koska n tuntematonta ja n yhtälöä"
   ]
  },
  {
   "cell_type": "code",
   "execution_count": 9,
   "metadata": {},
   "outputs": [],
   "source": [
    "# imports\n",
    "\n",
    "import numpy as np\n",
    "import xarray as xr\n",
    "import scipy.sparse.linalg \n",
    "from dask.distributed import Client, progress\n",
    "\n",
    "\n",
    "\n",
    "\n",
    "invm = np.linalg.inv\n",
    "gmres = scipy.sparse.linalg.gmres\n",
    "npsolve = np.linalg.solve\n",
    "\n",
    "ds_1 = xr.open_dataset(\"data/regions_verify_isotope_202112_cov.nc\")\n",
    "bio_1 = ds_1[\"covariance_bio\"]\n",
    "anth_1 = ds_1[\"covariance_anth\"]\n",
    "\n",
    "ds_2 = xr.open_dataset(\"data/regions_verify_202104_cov.nc\")\n",
    "bio_2 = ds_2[\"covariance_bio\"]\n",
    "anth_2 = ds_2[\"covariance_anth\"]\n",
    "\n",
    "M = bio_2.values[:2000, :2000]"
   ]
  },
  {
   "cell_type": "code",
   "execution_count": 19,
   "metadata": {},
   "outputs": [],
   "source": [
    "invM = invm(M)\n"
   ]
  },
  {
   "cell_type": "markdown",
   "metadata": {},
   "source": [
    "np.linalg.solve\n",
    "----------------\n",
    "* ainakin näyttäisi tulevan samat sarakevektorit, mutta se ei (kai) käytä GMRESiä"
   ]
  },
  {
   "cell_type": "code",
   "execution_count": 19,
   "metadata": {},
   "outputs": [
    {
     "name": "stdout",
     "output_type": "stream",
     "text": [
      "[-4.11504027e-01 -4.28670605e-10  8.31936008e-09 ...  0.00000000e+00\n",
      "  0.00000000e+00  0.00000000e+00]\n",
      "True\n"
     ]
    }
   ],
   "source": [
    "i = 4 #which column to solve\n",
    "e_i = np.zeros(len(M))\n",
    "e_i[i]= 1.\n",
    "\n",
    "s_i = np.linalg.solve(M, e_i)\n",
    "print(s_i)\n",
    "c_i = invM[:,i]\n",
    "\n",
    "print(np.allclose(c_i, s_i))"
   ]
  },
  {
   "cell_type": "markdown",
   "metadata": {},
   "source": [
    "scipy.sparse.linalg.gmres\n",
    "-----------------------------\n",
    "\n",
    "* needs a smaller tolerance than the default for the resulting vector to be close to the actual column of the inverse\n",
    "* A way to decrease the number of iterations is to use a preconditioner - maybe need to look into this if not fast enough!"
   ]
  },
  {
   "cell_type": "code",
   "execution_count": 20,
   "metadata": {},
   "outputs": [
    {
     "name": "stdout",
     "output_type": "stream",
     "text": [
      "[-4.11504027e-01 -4.28670908e-10  8.31936012e-09 ...  0.00000000e+00\n",
      "  0.00000000e+00  0.00000000e+00]\n",
      "0\n"
     ]
    }
   ],
   "source": [
    "g_i, exitCode = gmres(M,e_i, tol = 1e-12)\n",
    "\n",
    "print(g_i)\n",
    "print(exitCode)\n"
   ]
  },
  {
   "cell_type": "markdown",
   "metadata": {},
   "source": [
    "Comparison of times it takes to solve one column\n",
    "--------------------------------------------------\n",
    "\n",
    "* scipyn gmres a lot faster than numpy solve at least with tolerance 1e-12 or larger\n",
    "* not as exact though (if we presume invm computes the correct inverse. (It could also be that invm uses the same np.linalg.solve and that is the reason it gives the same column as solve)"
   ]
  },
  {
   "cell_type": "code",
   "execution_count": 21,
   "metadata": {},
   "outputs": [
    {
     "name": "stdout",
     "output_type": "stream",
     "text": [
      "1.39 s ± 19.5 ms per loop (mean ± std. dev. of 7 runs, 1 loop each)\n",
      "971 ms ± 17.2 ms per loop (mean ± std. dev. of 7 runs, 1 loop each)\n"
     ]
    }
   ],
   "source": [
    "i = 5 #which column to solve\n",
    "e_i = np.zeros(len(M))\n",
    "e_i[i]= 1.\n",
    "\n",
    "%timeit npsolve(M, e_i)\n",
    "%timeit gmres(M,e_i, tol = 1e-12)"
   ]
  },
  {
   "cell_type": "code",
   "execution_count": 2,
   "metadata": {},
   "outputs": [],
   "source": [
    "def invert_column(A,idx, tolerance):\n",
    "    e_i = np.zeros(len(A))\n",
    "    e_i[idx]= 1.\n",
    "    invcol, exitCode = gmres(A, e_i, tol = tolerance)\n",
    "    if exitCode != 0:\n",
    "        print(exitCode)    \n",
    "    return invcol\n",
    "    "
   ]
  },
  {
   "cell_type": "markdown",
   "metadata": {},
   "source": [
    "The whole inverse matrix\n",
    "------------------------"
   ]
  },
  {
   "cell_type": "code",
   "execution_count": 20,
   "metadata": {},
   "outputs": [
    {
     "ename": "KeyboardInterrupt",
     "evalue": "",
     "output_type": "error",
     "traceback": [
      "\u001b[0;31m---------------------------------------------------------------------------\u001b[0m",
      "\u001b[0;31mKeyboardInterrupt\u001b[0m                         Traceback (most recent call last)",
      "Cell \u001b[0;32mIn [20], line 10\u001b[0m\n\u001b[1;32m      7\u001b[0m        Ainv[:,i], exitCodes[i] \u001b[38;5;241m=\u001b[39m gmres(A, eye[:,i], tol \u001b[38;5;241m=\u001b[39m \u001b[38;5;241m1e-10\u001b[39m)\n\u001b[1;32m      8\u001b[0m     \u001b[38;5;28;01mreturn\u001b[39;00m Ainv, exitCodes\n\u001b[0;32m---> 10\u001b[0m Minv, exitCodes \u001b[38;5;241m=\u001b[39m columnwise_inv(M)\n",
      "Cell \u001b[0;32mIn [20], line 7\u001b[0m, in \u001b[0;36mcolumnwise_inv\u001b[0;34m(A)\u001b[0m\n\u001b[1;32m      5\u001b[0m exitCodes \u001b[38;5;241m=\u001b[39m np\u001b[38;5;241m.\u001b[39mones(n)\n\u001b[1;32m      6\u001b[0m \u001b[38;5;28;01mfor\u001b[39;00m i \u001b[38;5;129;01min\u001b[39;00m np\u001b[38;5;241m.\u001b[39marange(n):\n\u001b[0;32m----> 7\u001b[0m    Ainv[:,i], exitCodes[i] \u001b[38;5;241m=\u001b[39m \u001b[43mgmres\u001b[49m\u001b[43m(\u001b[49m\u001b[43mA\u001b[49m\u001b[43m,\u001b[49m\u001b[43m \u001b[49m\u001b[43meye\u001b[49m\u001b[43m[\u001b[49m\u001b[43m:\u001b[49m\u001b[43m,\u001b[49m\u001b[43mi\u001b[49m\u001b[43m]\u001b[49m\u001b[43m,\u001b[49m\u001b[43m \u001b[49m\u001b[43mtol\u001b[49m\u001b[43m \u001b[49m\u001b[38;5;241;43m=\u001b[39;49m\u001b[43m \u001b[49m\u001b[38;5;241;43m1e-10\u001b[39;49m\u001b[43m)\u001b[49m\n\u001b[1;32m      8\u001b[0m \u001b[38;5;28;01mreturn\u001b[39;00m Ainv, exitCodes\n",
      "File \u001b[0;32m<decorator-gen-5>:2\u001b[0m, in \u001b[0;36mgmres\u001b[0;34m(A, b, x0, tol, restart, maxiter, M, callback, restrt, atol, callback_type)\u001b[0m\n",
      "File \u001b[0;32m/usr/lib/python3/dist-packages/scipy/_lib/_threadsafety.py:44\u001b[0m, in \u001b[0;36mReentrancyLock.decorate.<locals>.caller\u001b[0;34m(func, *a, **kw)\u001b[0m\n\u001b[1;32m     42\u001b[0m \u001b[39mdef\u001b[39;00m \u001b[39mcaller\u001b[39m(func, \u001b[39m*\u001b[39ma, \u001b[39m*\u001b[39m\u001b[39m*\u001b[39mkw):\n\u001b[1;32m     43\u001b[0m     \u001b[39mwith\u001b[39;00m \u001b[39mself\u001b[39m:\n\u001b[0;32m---> 44\u001b[0m         \u001b[39mreturn\u001b[39;00m func(\u001b[39m*\u001b[39;49ma, \u001b[39m*\u001b[39;49m\u001b[39m*\u001b[39;49mkw)\n",
      "File \u001b[0;32m/usr/lib/python3/dist-packages/scipy/sparse/linalg/_isolve/iterative.py:623\u001b[0m, in \u001b[0;36mgmres\u001b[0;34m(A, b, x0, tol, restart, maxiter, M, callback, restrt, atol, callback_type)\u001b[0m\n\u001b[1;32m    621\u001b[0m \u001b[39melif\u001b[39;00m (ijob \u001b[39m==\u001b[39m \u001b[39m3\u001b[39m):\n\u001b[1;32m    622\u001b[0m     work[slice2] \u001b[39m*\u001b[39m\u001b[39m=\u001b[39m sclr2\n\u001b[0;32m--> 623\u001b[0m     work[slice2] \u001b[39m+\u001b[39m\u001b[39m=\u001b[39m sclr1\u001b[39m*\u001b[39mmatvec(work[slice1])\n\u001b[1;32m    624\u001b[0m     \u001b[39mif\u001b[39;00m resid_ready:\n\u001b[1;32m    625\u001b[0m         \u001b[39mif\u001b[39;00m callback_type \u001b[39min\u001b[39;00m (\u001b[39m'\u001b[39m\u001b[39mpr_norm\u001b[39m\u001b[39m'\u001b[39m, \u001b[39m'\u001b[39m\u001b[39mlegacy\u001b[39m\u001b[39m'\u001b[39m):\n",
      "File \u001b[0;32m/usr/lib/python3/dist-packages/scipy/sparse/linalg/_interface.py:232\u001b[0m, in \u001b[0;36mLinearOperator.matvec\u001b[0;34m(self, x)\u001b[0m\n\u001b[1;32m    229\u001b[0m \u001b[39mif\u001b[39;00m x\u001b[39m.\u001b[39mshape \u001b[39m!=\u001b[39m (N,) \u001b[39mand\u001b[39;00m x\u001b[39m.\u001b[39mshape \u001b[39m!=\u001b[39m (N,\u001b[39m1\u001b[39m):\n\u001b[1;32m    230\u001b[0m     \u001b[39mraise\u001b[39;00m \u001b[39mValueError\u001b[39;00m(\u001b[39m'\u001b[39m\u001b[39mdimension mismatch\u001b[39m\u001b[39m'\u001b[39m)\n\u001b[0;32m--> 232\u001b[0m y \u001b[39m=\u001b[39m \u001b[39mself\u001b[39;49m\u001b[39m.\u001b[39;49m_matvec(x)\n\u001b[1;32m    234\u001b[0m \u001b[39mif\u001b[39;00m \u001b[39misinstance\u001b[39m(x, np\u001b[39m.\u001b[39mmatrix):\n\u001b[1;32m    235\u001b[0m     y \u001b[39m=\u001b[39m asmatrix(y)\n",
      "File \u001b[0;32m/usr/lib/python3/dist-packages/scipy/sparse/linalg/_interface.py:199\u001b[0m, in \u001b[0;36mLinearOperator._matvec\u001b[0;34m(self, x)\u001b[0m\n\u001b[1;32m    189\u001b[0m \u001b[39mdef\u001b[39;00m \u001b[39m_matvec\u001b[39m(\u001b[39mself\u001b[39m, x):\n\u001b[1;32m    190\u001b[0m     \u001b[39m\"\"\"Default matrix-vector multiplication handler.\u001b[39;00m\n\u001b[1;32m    191\u001b[0m \n\u001b[1;32m    192\u001b[0m \u001b[39m    If self is a linear operator of shape (M, N), then this method will\u001b[39;00m\n\u001b[0;32m   (...)\u001b[0m\n\u001b[1;32m    197\u001b[0m \u001b[39m    will define matrix-vector multiplication as well.\u001b[39;00m\n\u001b[1;32m    198\u001b[0m \u001b[39m    \"\"\"\u001b[39;00m\n\u001b[0;32m--> 199\u001b[0m     \u001b[39mreturn\u001b[39;00m \u001b[39mself\u001b[39;49m\u001b[39m.\u001b[39;49mmatmat(x\u001b[39m.\u001b[39;49mreshape(\u001b[39m-\u001b[39;49m\u001b[39m1\u001b[39;49m, \u001b[39m1\u001b[39;49m))\n",
      "File \u001b[0;32m/usr/lib/python3/dist-packages/scipy/sparse/linalg/_interface.py:337\u001b[0m, in \u001b[0;36mLinearOperator.matmat\u001b[0;34m(self, X)\u001b[0m\n\u001b[1;32m    333\u001b[0m \u001b[39mif\u001b[39;00m X\u001b[39m.\u001b[39mshape[\u001b[39m0\u001b[39m] \u001b[39m!=\u001b[39m \u001b[39mself\u001b[39m\u001b[39m.\u001b[39mshape[\u001b[39m1\u001b[39m]:\n\u001b[1;32m    334\u001b[0m     \u001b[39mraise\u001b[39;00m \u001b[39mValueError\u001b[39;00m(\u001b[39m'\u001b[39m\u001b[39mdimension mismatch: \u001b[39m\u001b[39m%r\u001b[39;00m\u001b[39m, \u001b[39m\u001b[39m%r\u001b[39;00m\u001b[39m'\u001b[39m\n\u001b[1;32m    335\u001b[0m                      \u001b[39m%\u001b[39m (\u001b[39mself\u001b[39m\u001b[39m.\u001b[39mshape, X\u001b[39m.\u001b[39mshape))\n\u001b[0;32m--> 337\u001b[0m Y \u001b[39m=\u001b[39m \u001b[39mself\u001b[39;49m\u001b[39m.\u001b[39;49m_matmat(X)\n\u001b[1;32m    339\u001b[0m \u001b[39mif\u001b[39;00m \u001b[39misinstance\u001b[39m(Y, np\u001b[39m.\u001b[39mmatrix):\n\u001b[1;32m    340\u001b[0m     Y \u001b[39m=\u001b[39m asmatrix(Y)\n",
      "File \u001b[0;32m/usr/lib/python3/dist-packages/scipy/sparse/linalg/_interface.py:731\u001b[0m, in \u001b[0;36mMatrixLinearOperator._matmat\u001b[0;34m(self, X)\u001b[0m\n\u001b[1;32m    730\u001b[0m \u001b[39mdef\u001b[39;00m \u001b[39m_matmat\u001b[39m(\u001b[39mself\u001b[39m, X):\n\u001b[0;32m--> 731\u001b[0m     \u001b[39mreturn\u001b[39;00m \u001b[39mself\u001b[39;49m\u001b[39m.\u001b[39;49mA\u001b[39m.\u001b[39;49mdot(X)\n",
      "\u001b[0;31mKeyboardInterrupt\u001b[0m: "
     ]
    }
   ],
   "source": [
    "def columnwise_inv(A):\n",
    "    n = len(A)\n",
    "    Ainv = np.zeros((n,n))\n",
    "    eye = np.eye(n)\n",
    "    exitCodes = np.ones(n)\n",
    "    for i in np.arange(n):\n",
    "       Ainv[:,i], exitCodes[i] = gmres(A, eye[:,i], tol = 1e-10)\n",
    "    return Ainv, exitCodes\n",
    "\n"
   ]
  },
  {
   "cell_type": "code",
   "execution_count": 6,
   "metadata": {},
   "outputs": [
    {
     "name": "stderr",
     "output_type": "stream",
     "text": [
      "/home/pietaril/.local/lib/python3.10/site-packages/distributed/node.py:183: UserWarning: Port 8787 is already in use.\n",
      "Perhaps you already have a cluster running?\n",
      "Hosting the HTTP server on port 46611 instead\n",
      "  warnings.warn(\n"
     ]
    },
    {
     "data": {
      "text/html": [
       "<div>\n",
       "    <div style=\"width: 24px; height: 24px; background-color: #e1e1e1; border: 3px solid #9D9D9D; border-radius: 5px; position: absolute;\"> </div>\n",
       "    <div style=\"margin-left: 48px;\">\n",
       "        <h3 style=\"margin-bottom: 0px;\">Client</h3>\n",
       "        <p style=\"color: #9D9D9D; margin-bottom: 0px;\">Client-d1f442de-48a1-11ed-9c2b-7ffcf7afac6d</p>\n",
       "        <table style=\"width: 100%; text-align: left;\">\n",
       "\n",
       "        <tr>\n",
       "        \n",
       "            <td style=\"text-align: left;\"><strong>Connection method:</strong> Cluster object</td>\n",
       "            <td style=\"text-align: left;\"><strong>Cluster type:</strong> distributed.LocalCluster</td>\n",
       "        \n",
       "        </tr>\n",
       "\n",
       "        \n",
       "            <tr>\n",
       "                <td style=\"text-align: left;\">\n",
       "                    <strong>Dashboard: </strong> <a href=\"http://127.0.0.1:46611/status\" target=\"_blank\">http://127.0.0.1:46611/status</a>\n",
       "                </td>\n",
       "                <td style=\"text-align: left;\"></td>\n",
       "            </tr>\n",
       "        \n",
       "\n",
       "        </table>\n",
       "\n",
       "        \n",
       "            <details>\n",
       "            <summary style=\"margin-bottom: 20px;\"><h3 style=\"display: inline;\">Cluster Info</h3></summary>\n",
       "            <div class=\"jp-RenderedHTMLCommon jp-RenderedHTML jp-mod-trusted jp-OutputArea-output\">\n",
       "    <div style=\"width: 24px; height: 24px; background-color: #e1e1e1; border: 3px solid #9D9D9D; border-radius: 5px; position: absolute;\">\n",
       "    </div>\n",
       "    <div style=\"margin-left: 48px;\">\n",
       "        <h3 style=\"margin-bottom: 0px; margin-top: 0px;\">LocalCluster</h3>\n",
       "        <p style=\"color: #9D9D9D; margin-bottom: 0px;\">ae3a9c05</p>\n",
       "        <table style=\"width: 100%; text-align: left;\">\n",
       "            <tr>\n",
       "                <td style=\"text-align: left;\">\n",
       "                    <strong>Dashboard:</strong> <a href=\"http://127.0.0.1:46611/status\" target=\"_blank\">http://127.0.0.1:46611/status</a>\n",
       "                </td>\n",
       "                <td style=\"text-align: left;\">\n",
       "                    <strong>Workers:</strong> 1\n",
       "                </td>\n",
       "            </tr>\n",
       "            <tr>\n",
       "                <td style=\"text-align: left;\">\n",
       "                    <strong>Total threads:</strong> 8\n",
       "                </td>\n",
       "                <td style=\"text-align: left;\">\n",
       "                    <strong>Total memory:</strong> 30.78 GiB\n",
       "                </td>\n",
       "            </tr>\n",
       "            \n",
       "            <tr>\n",
       "    <td style=\"text-align: left;\"><strong>Status:</strong> running</td>\n",
       "    <td style=\"text-align: left;\"><strong>Using processes:</strong> True</td>\n",
       "</tr>\n",
       "\n",
       "            \n",
       "        </table>\n",
       "\n",
       "        <details>\n",
       "            <summary style=\"margin-bottom: 20px;\">\n",
       "                <h3 style=\"display: inline;\">Scheduler Info</h3>\n",
       "            </summary>\n",
       "\n",
       "            <div style=\"\">\n",
       "    <div>\n",
       "        <div style=\"width: 24px; height: 24px; background-color: #FFF7E5; border: 3px solid #FF6132; border-radius: 5px; position: absolute;\"> </div>\n",
       "        <div style=\"margin-left: 48px;\">\n",
       "            <h3 style=\"margin-bottom: 0px;\">Scheduler</h3>\n",
       "            <p style=\"color: #9D9D9D; margin-bottom: 0px;\">Scheduler-0e9c4796-d5ac-4ba3-8c01-37f98fdadb5a</p>\n",
       "            <table style=\"width: 100%; text-align: left;\">\n",
       "                <tr>\n",
       "                    <td style=\"text-align: left;\">\n",
       "                        <strong>Comm:</strong> tcp://127.0.0.1:34963\n",
       "                    </td>\n",
       "                    <td style=\"text-align: left;\">\n",
       "                        <strong>Workers:</strong> 1\n",
       "                    </td>\n",
       "                </tr>\n",
       "                <tr>\n",
       "                    <td style=\"text-align: left;\">\n",
       "                        <strong>Dashboard:</strong> <a href=\"http://127.0.0.1:46611/status\" target=\"_blank\">http://127.0.0.1:46611/status</a>\n",
       "                    </td>\n",
       "                    <td style=\"text-align: left;\">\n",
       "                        <strong>Total threads:</strong> 8\n",
       "                    </td>\n",
       "                </tr>\n",
       "                <tr>\n",
       "                    <td style=\"text-align: left;\">\n",
       "                        <strong>Started:</strong> Just now\n",
       "                    </td>\n",
       "                    <td style=\"text-align: left;\">\n",
       "                        <strong>Total memory:</strong> 30.78 GiB\n",
       "                    </td>\n",
       "                </tr>\n",
       "            </table>\n",
       "        </div>\n",
       "    </div>\n",
       "\n",
       "    <details style=\"margin-left: 48px;\">\n",
       "        <summary style=\"margin-bottom: 20px;\">\n",
       "            <h3 style=\"display: inline;\">Workers</h3>\n",
       "        </summary>\n",
       "\n",
       "        \n",
       "        <div style=\"margin-bottom: 20px;\">\n",
       "            <div style=\"width: 24px; height: 24px; background-color: #DBF5FF; border: 3px solid #4CC9FF; border-radius: 5px; position: absolute;\"> </div>\n",
       "            <div style=\"margin-left: 48px;\">\n",
       "            <details>\n",
       "                <summary>\n",
       "                    <h4 style=\"margin-bottom: 0px; display: inline;\">Worker: 0</h4>\n",
       "                </summary>\n",
       "                <table style=\"width: 100%; text-align: left;\">\n",
       "                    <tr>\n",
       "                        <td style=\"text-align: left;\">\n",
       "                            <strong>Comm: </strong> tcp://127.0.0.1:39453\n",
       "                        </td>\n",
       "                        <td style=\"text-align: left;\">\n",
       "                            <strong>Total threads: </strong> 8\n",
       "                        </td>\n",
       "                    </tr>\n",
       "                    <tr>\n",
       "                        <td style=\"text-align: left;\">\n",
       "                            <strong>Dashboard: </strong> <a href=\"http://127.0.0.1:39079/status\" target=\"_blank\">http://127.0.0.1:39079/status</a>\n",
       "                        </td>\n",
       "                        <td style=\"text-align: left;\">\n",
       "                            <strong>Memory: </strong> 30.78 GiB\n",
       "                        </td>\n",
       "                    </tr>\n",
       "                    <tr>\n",
       "                        <td style=\"text-align: left;\">\n",
       "                            <strong>Nanny: </strong> tcp://127.0.0.1:42437\n",
       "                        </td>\n",
       "                        <td style=\"text-align: left;\"></td>\n",
       "                    </tr>\n",
       "                    <tr>\n",
       "                        <td colspan=\"2\" style=\"text-align: left;\">\n",
       "                            <strong>Local directory: </strong> /tmp/dask-worker-space/worker-_co6xrq3\n",
       "                        </td>\n",
       "                    </tr>\n",
       "\n",
       "                    \n",
       "\n",
       "                    \n",
       "\n",
       "                </table>\n",
       "            </details>\n",
       "            </div>\n",
       "        </div>\n",
       "        \n",
       "\n",
       "    </details>\n",
       "</div>\n",
       "\n",
       "        </details>\n",
       "    </div>\n",
       "</div>\n",
       "            </details>\n",
       "        \n",
       "\n",
       "    </div>\n",
       "</div>"
      ],
      "text/plain": [
       "<Client: 'tcp://127.0.0.1:34963' processes=1 threads=8, memory=30.78 GiB>"
      ]
     },
     "execution_count": 6,
     "metadata": {},
     "output_type": "execute_result"
    }
   ],
   "source": [
    "client = Client(threads_per_worker=8, n_workers=1)\n",
    "client"
   ]
  },
  {
   "cell_type": "code",
   "execution_count": 10,
   "metadata": {},
   "outputs": [
    {
     "name": "stderr",
     "output_type": "stream",
     "text": [
      "/home/pietaril/.local/lib/python3.10/site-packages/distributed/worker.py:2938: UserWarning: Large object of size 30.52 MiB detected in task graph: \n",
      "  (array([[ 8.00000000e-01,  1.20738289e-08,  3.2659 ... ), 1999, 1e-10)\n",
      "Consider scattering large objects ahead of time\n",
      "with client.scatter to reduce scheduler burden and \n",
      "keep data on workers\n",
      "\n",
      "    future = client.submit(func, big_data)    # bad\n",
      "\n",
      "    big_future = client.scatter(big_data)     # good\n",
      "    future = client.submit(func, big_future)  # good\n",
      "  warnings.warn(\n"
     ]
    },
    {
     "ename": "KeyboardInterrupt",
     "evalue": "",
     "output_type": "error",
     "traceback": [
      "\u001b[0;31m---------------------------------------------------------------------------\u001b[0m",
      "\u001b[0;31mKeyboardInterrupt\u001b[0m                         Traceback (most recent call last)",
      "Cell \u001b[0;32mIn [10], line 8\u001b[0m\n\u001b[1;32m      5\u001b[0m    invcol \u001b[38;5;241m=\u001b[39m dask\u001b[38;5;241m.\u001b[39mdelayed(invert_column)(M,i, \u001b[38;5;241m1e-10\u001b[39m)\n\u001b[1;32m      6\u001b[0m    inverted_cols\u001b[38;5;241m.\u001b[39mappend(invcol)\n\u001b[0;32m----> 8\u001b[0m futures \u001b[38;5;241m=\u001b[39m dask\u001b[38;5;241m.\u001b[39mpersist(\u001b[38;5;241m*\u001b[39minverted_cols)\n\u001b[1;32m     10\u001b[0m \u001b[38;5;66;03m#client.cluster.scale(10)\u001b[39;00m\n\u001b[1;32m     12\u001b[0m results \u001b[38;5;241m=\u001b[39m dask\u001b[38;5;241m.\u001b[39mcompute(\u001b[38;5;241m*\u001b[39mfutures)\n",
      "File \u001b[0;32m~/.local/lib/python3.10/site-packages/dask/base.py:888\u001b[0m, in \u001b[0;36mpersist\u001b[0;34m(traverse, optimize_graph, scheduler, *args, **kwargs)\u001b[0m\n\u001b[1;32m    886\u001b[0m         \u001b[39melse\u001b[39;00m:\n\u001b[1;32m    887\u001b[0m             \u001b[39mif\u001b[39;00m client\u001b[39m.\u001b[39mget \u001b[39m==\u001b[39m schedule:\n\u001b[0;32m--> 888\u001b[0m                 results \u001b[39m=\u001b[39m client\u001b[39m.\u001b[39;49mpersist(\n\u001b[1;32m    889\u001b[0m                     collections, optimize_graph\u001b[39m=\u001b[39;49moptimize_graph, \u001b[39m*\u001b[39;49m\u001b[39m*\u001b[39;49mkwargs\n\u001b[1;32m    890\u001b[0m                 )\n\u001b[1;32m    891\u001b[0m                 \u001b[39mreturn\u001b[39;00m repack(results)\n\u001b[1;32m    893\u001b[0m dsk \u001b[39m=\u001b[39m collections_to_dsk(collections, optimize_graph, \u001b[39m*\u001b[39m\u001b[39m*\u001b[39mkwargs)\n",
      "File \u001b[0;32m~/.local/lib/python3.10/site-packages/distributed/client.py:3356\u001b[0m, in \u001b[0;36mClient.persist\u001b[0;34m(self, collections, optimize_graph, workers, allow_other_workers, resources, retries, priority, fifo_timeout, actors, **kwargs)\u001b[0m\n\u001b[1;32m   3352\u001b[0m dsk \u001b[39m=\u001b[39m \u001b[39mself\u001b[39m\u001b[39m.\u001b[39mcollections_to_dsk(collections, optimize_graph, \u001b[39m*\u001b[39m\u001b[39m*\u001b[39mkwargs)\n\u001b[1;32m   3354\u001b[0m names \u001b[39m=\u001b[39m {k \u001b[39mfor\u001b[39;00m c \u001b[39min\u001b[39;00m collections \u001b[39mfor\u001b[39;00m k \u001b[39min\u001b[39;00m flatten(c\u001b[39m.\u001b[39m__dask_keys__())}\n\u001b[0;32m-> 3356\u001b[0m futures \u001b[39m=\u001b[39m \u001b[39mself\u001b[39;49m\u001b[39m.\u001b[39;49m_graph_to_futures(\n\u001b[1;32m   3357\u001b[0m     dsk,\n\u001b[1;32m   3358\u001b[0m     names,\n\u001b[1;32m   3359\u001b[0m     workers\u001b[39m=\u001b[39;49mworkers,\n\u001b[1;32m   3360\u001b[0m     allow_other_workers\u001b[39m=\u001b[39;49mallow_other_workers,\n\u001b[1;32m   3361\u001b[0m     resources\u001b[39m=\u001b[39;49mresources,\n\u001b[1;32m   3362\u001b[0m     retries\u001b[39m=\u001b[39;49mretries,\n\u001b[1;32m   3363\u001b[0m     user_priority\u001b[39m=\u001b[39;49mpriority,\n\u001b[1;32m   3364\u001b[0m     fifo_timeout\u001b[39m=\u001b[39;49mfifo_timeout,\n\u001b[1;32m   3365\u001b[0m     actors\u001b[39m=\u001b[39;49mactors,\n\u001b[1;32m   3366\u001b[0m )\n\u001b[1;32m   3368\u001b[0m postpersists \u001b[39m=\u001b[39m [c\u001b[39m.\u001b[39m__dask_postpersist__() \u001b[39mfor\u001b[39;00m c \u001b[39min\u001b[39;00m collections]\n\u001b[1;32m   3369\u001b[0m result \u001b[39m=\u001b[39m [\n\u001b[1;32m   3370\u001b[0m     func({k: futures[k] \u001b[39mfor\u001b[39;00m k \u001b[39min\u001b[39;00m flatten(c\u001b[39m.\u001b[39m__dask_keys__())}, \u001b[39m*\u001b[39margs)\n\u001b[1;32m   3371\u001b[0m     \u001b[39mfor\u001b[39;00m (func, args), c \u001b[39min\u001b[39;00m \u001b[39mzip\u001b[39m(postpersists, collections)\n\u001b[1;32m   3372\u001b[0m ]\n",
      "File \u001b[0;32m~/.local/lib/python3.10/site-packages/distributed/client.py:2945\u001b[0m, in \u001b[0;36mClient._graph_to_futures\u001b[0;34m(self, dsk, keys, workers, allow_other_workers, priority, user_priority, resources, retries, fifo_timeout, actors)\u001b[0m\n\u001b[1;32m   2943\u001b[0m \u001b[39m# Pack the high level graph before sending it to the scheduler\u001b[39;00m\n\u001b[1;32m   2944\u001b[0m keyset \u001b[39m=\u001b[39m \u001b[39mset\u001b[39m(keys)\n\u001b[0;32m-> 2945\u001b[0m dsk \u001b[39m=\u001b[39m dsk\u001b[39m.\u001b[39;49m__dask_distributed_pack__(\u001b[39mself\u001b[39;49m, keyset, annotations)\n\u001b[1;32m   2947\u001b[0m \u001b[39m# Create futures before sending graph (helps avoid contention)\u001b[39;00m\n\u001b[1;32m   2948\u001b[0m futures \u001b[39m=\u001b[39m {key: Future(key, \u001b[39mself\u001b[39m, inform\u001b[39m=\u001b[39m\u001b[39mFalse\u001b[39;00m) \u001b[39mfor\u001b[39;00m key \u001b[39min\u001b[39;00m keyset}\n",
      "File \u001b[0;32m~/.local/lib/python3.10/site-packages/dask/highlevelgraph.py:1078\u001b[0m, in \u001b[0;36mHighLevelGraph.__dask_distributed_pack__\u001b[0;34m(self, client, client_keys, annotations)\u001b[0m\n\u001b[1;32m   1072\u001b[0m layers \u001b[39m=\u001b[39m []\n\u001b[1;32m   1073\u001b[0m \u001b[39mfor\u001b[39;00m layer \u001b[39min\u001b[39;00m (\u001b[39mself\u001b[39m\u001b[39m.\u001b[39mlayers[name] \u001b[39mfor\u001b[39;00m name \u001b[39min\u001b[39;00m \u001b[39mself\u001b[39m\u001b[39m.\u001b[39m_toposort_layers()):\n\u001b[1;32m   1074\u001b[0m     layers\u001b[39m.\u001b[39mappend(\n\u001b[1;32m   1075\u001b[0m         {\n\u001b[1;32m   1076\u001b[0m             \u001b[39m\"\u001b[39m\u001b[39m__module__\u001b[39m\u001b[39m\"\u001b[39m: layer\u001b[39m.\u001b[39m\u001b[39m__module__\u001b[39m,\n\u001b[1;32m   1077\u001b[0m             \u001b[39m\"\u001b[39m\u001b[39m__name__\u001b[39m\u001b[39m\"\u001b[39m: \u001b[39mtype\u001b[39m(layer)\u001b[39m.\u001b[39m\u001b[39m__name__\u001b[39m,\n\u001b[0;32m-> 1078\u001b[0m             \u001b[39m\"\u001b[39m\u001b[39mstate\u001b[39m\u001b[39m\"\u001b[39m: layer\u001b[39m.\u001b[39;49m__dask_distributed_pack__(\n\u001b[1;32m   1079\u001b[0m                 \u001b[39mself\u001b[39;49m\u001b[39m.\u001b[39;49mget_all_external_keys(),\n\u001b[1;32m   1080\u001b[0m                 \u001b[39mself\u001b[39;49m\u001b[39m.\u001b[39;49mkey_dependencies,\n\u001b[1;32m   1081\u001b[0m                 client,\n\u001b[1;32m   1082\u001b[0m                 client_keys,\n\u001b[1;32m   1083\u001b[0m             ),\n\u001b[1;32m   1084\u001b[0m             \u001b[39m\"\u001b[39m\u001b[39mannotations\u001b[39m\u001b[39m\"\u001b[39m: layer\u001b[39m.\u001b[39m__dask_distributed_annotations_pack__(\n\u001b[1;32m   1085\u001b[0m                 annotations\n\u001b[1;32m   1086\u001b[0m             ),\n\u001b[1;32m   1087\u001b[0m         }\n\u001b[1;32m   1088\u001b[0m     )\n\u001b[1;32m   1089\u001b[0m \u001b[39mreturn\u001b[39;00m {\u001b[39m\"\u001b[39m\u001b[39mlayers\u001b[39m\u001b[39m\"\u001b[39m: layers}\n",
      "File \u001b[0;32m~/.local/lib/python3.10/site-packages/dask/highlevelgraph.py:432\u001b[0m, in \u001b[0;36mLayer.__dask_distributed_pack__\u001b[0;34m(self, all_hlg_keys, known_key_dependencies, client, client_keys)\u001b[0m\n\u001b[1;32m    427\u001b[0m merged_hlg_keys \u001b[39m=\u001b[39m all_hlg_keys \u001b[39m|\u001b[39m dsk\u001b[39m.\u001b[39mkeys()\n\u001b[1;32m    428\u001b[0m dsk \u001b[39m=\u001b[39m {\n\u001b[1;32m    429\u001b[0m     stringify(k): stringify(v, exclusive\u001b[39m=\u001b[39mmerged_hlg_keys)\n\u001b[1;32m    430\u001b[0m     \u001b[39mfor\u001b[39;00m k, v \u001b[39min\u001b[39;00m dsk\u001b[39m.\u001b[39mitems()\n\u001b[1;32m    431\u001b[0m }\n\u001b[0;32m--> 432\u001b[0m dsk \u001b[39m=\u001b[39m toolz\u001b[39m.\u001b[39;49mvalmap(dumps_task, dsk)\n\u001b[1;32m    433\u001b[0m \u001b[39mreturn\u001b[39;00m {\u001b[39m\"\u001b[39m\u001b[39mdsk\u001b[39m\u001b[39m\"\u001b[39m: dsk, \u001b[39m\"\u001b[39m\u001b[39mdependencies\u001b[39m\u001b[39m\"\u001b[39m: dependencies}\n",
      "File \u001b[0;32m~/.local/lib/python3.10/site-packages/toolz/dicttoolz.py:85\u001b[0m, in \u001b[0;36mvalmap\u001b[0;34m(func, d, factory)\u001b[0m\n\u001b[1;32m     74\u001b[0m \u001b[39m\"\"\" Apply function to values of dictionary\u001b[39;00m\n\u001b[1;32m     75\u001b[0m \n\u001b[1;32m     76\u001b[0m \u001b[39m>>> bills = {\"Alice\": [20, 15, 30], \"Bob\": [10, 35]}\u001b[39;00m\n\u001b[0;32m   (...)\u001b[0m\n\u001b[1;32m     82\u001b[0m \u001b[39m    itemmap\u001b[39;00m\n\u001b[1;32m     83\u001b[0m \u001b[39m\"\"\"\u001b[39;00m\n\u001b[1;32m     84\u001b[0m rv \u001b[39m=\u001b[39m factory()\n\u001b[0;32m---> 85\u001b[0m rv\u001b[39m.\u001b[39;49mupdate(\u001b[39mzip\u001b[39;49m(d\u001b[39m.\u001b[39;49mkeys(), \u001b[39mmap\u001b[39;49m(func, d\u001b[39m.\u001b[39;49mvalues())))\n\u001b[1;32m     86\u001b[0m \u001b[39mreturn\u001b[39;00m rv\n",
      "File \u001b[0;32m~/.local/lib/python3.10/site-packages/distributed/worker.py:2923\u001b[0m, in \u001b[0;36mdumps_task\u001b[0;34m(task)\u001b[0m\n\u001b[1;32m   2921\u001b[0m         \u001b[39mreturn\u001b[39;00m d\n\u001b[1;32m   2922\u001b[0m     \u001b[39melif\u001b[39;00m \u001b[39mnot\u001b[39;00m \u001b[39many\u001b[39m(\u001b[39mmap\u001b[39m(_maybe_complex, task[\u001b[39m1\u001b[39m:])):\n\u001b[0;32m-> 2923\u001b[0m         \u001b[39mreturn\u001b[39;00m {\u001b[39m\"\u001b[39m\u001b[39mfunction\u001b[39m\u001b[39m\"\u001b[39m: dumps_function(task[\u001b[39m0\u001b[39m]), \u001b[39m\"\u001b[39m\u001b[39margs\u001b[39m\u001b[39m\"\u001b[39m: warn_dumps(task[\u001b[39m1\u001b[39;49m:])}\n\u001b[1;32m   2924\u001b[0m \u001b[39mreturn\u001b[39;00m to_serialize(task)\n",
      "File \u001b[0;32m~/.local/lib/python3.10/site-packages/distributed/worker.py:2932\u001b[0m, in \u001b[0;36mwarn_dumps\u001b[0;34m(obj, dumps, limit)\u001b[0m\n\u001b[1;32m   2930\u001b[0m \u001b[39mdef\u001b[39;00m \u001b[39mwarn_dumps\u001b[39m(obj, dumps\u001b[39m=\u001b[39mpickle\u001b[39m.\u001b[39mdumps, limit\u001b[39m=\u001b[39m\u001b[39m1e6\u001b[39m):\n\u001b[1;32m   2931\u001b[0m     \u001b[39m\"\"\"Dump an object to bytes, warn if those bytes are large\"\"\"\u001b[39;00m\n\u001b[0;32m-> 2932\u001b[0m     b \u001b[39m=\u001b[39m dumps(obj, protocol\u001b[39m=\u001b[39;49m\u001b[39m4\u001b[39;49m)\n\u001b[1;32m   2933\u001b[0m     \u001b[39mif\u001b[39;00m \u001b[39mnot\u001b[39;00m _warn_dumps_warned[\u001b[39m0\u001b[39m] \u001b[39mand\u001b[39;00m \u001b[39mlen\u001b[39m(b) \u001b[39m>\u001b[39m limit:\n\u001b[1;32m   2934\u001b[0m         _warn_dumps_warned[\u001b[39m0\u001b[39m] \u001b[39m=\u001b[39m \u001b[39mTrue\u001b[39;00m\n",
      "File \u001b[0;32m~/.local/lib/python3.10/site-packages/distributed/protocol/pickle.py:46\u001b[0m, in \u001b[0;36mdumps\u001b[0;34m(x, buffer_callback, protocol)\u001b[0m\n\u001b[1;32m     44\u001b[0m \u001b[39mtry\u001b[39;00m:\n\u001b[1;32m     45\u001b[0m     buffers\u001b[39m.\u001b[39mclear()\n\u001b[0;32m---> 46\u001b[0m     result \u001b[39m=\u001b[39m pickle\u001b[39m.\u001b[39;49mdumps(x, \u001b[39m*\u001b[39;49m\u001b[39m*\u001b[39;49mdump_kwargs)\n\u001b[1;32m     47\u001b[0m     \u001b[39mif\u001b[39;00m \u001b[39mb\u001b[39m\u001b[39m\"\u001b[39m\u001b[39m__main__\u001b[39m\u001b[39m\"\u001b[39m \u001b[39min\u001b[39;00m result \u001b[39mor\u001b[39;00m (\n\u001b[1;32m     48\u001b[0m         CLOUDPICKLE_GTE_20\n\u001b[1;32m     49\u001b[0m         \u001b[39mand\u001b[39;00m \u001b[39mgetattr\u001b[39m(inspect\u001b[39m.\u001b[39mgetmodule(x), \u001b[39m\"\u001b[39m\u001b[39m__name__\u001b[39m\u001b[39m\"\u001b[39m, \u001b[39mNone\u001b[39;00m)\n\u001b[1;32m     50\u001b[0m         \u001b[39min\u001b[39;00m cloudpickle\u001b[39m.\u001b[39mlist_registry_pickle_by_value()\n\u001b[1;32m     51\u001b[0m     ):\n\u001b[1;32m     52\u001b[0m         \u001b[39mif\u001b[39;00m \u001b[39mlen\u001b[39m(result) \u001b[39m<\u001b[39m \u001b[39m1000\u001b[39m \u001b[39mor\u001b[39;00m \u001b[39mnot\u001b[39;00m _always_use_pickle_for(x):\n",
      "\u001b[0;31mKeyboardInterrupt\u001b[0m: "
     ]
    }
   ],
   "source": [
    "import dask\n",
    "n = len(M)\n",
    "inverted_cols = []\n",
    "for i in np.arange(n):\n",
    "   invcol = dask.delayed(invert_column)(M,i, 1e-10)\n",
    "   inverted_cols.append(invcol)\n",
    "\n",
    "futures = dask.persist(*inverted_cols)\n",
    "\n",
    "#client.cluster.scale(10)\n",
    "\n",
    "results = dask.compute(*futures)"
   ]
  },
  {
   "cell_type": "code",
   "execution_count": 16,
   "metadata": {},
   "outputs": [
    {
     "name": "stdout",
     "output_type": "stream",
     "text": [
      "[[ 1.25426569e+00 -3.52374850e-02 -6.35396420e-02 ...  0.00000000e+00\n",
      "   0.00000000e+00  0.00000000e+00]\n",
      " [-3.52374850e-02  1.25182439e+00 -1.33715847e-02 ...  0.00000000e+00\n",
      "   0.00000000e+00  0.00000000e+00]\n",
      " [-6.35396420e-02 -1.33715847e-02  1.26289885e+00 ...  0.00000000e+00\n",
      "   0.00000000e+00  0.00000000e+00]\n",
      " ...\n",
      " [ 0.00000000e+00  0.00000000e+00  0.00000000e+00 ...  5.00079700e+00\n",
      "  -6.31019841e-02  4.64396874e-07]\n",
      " [ 0.00000000e+00  0.00000000e+00  0.00000000e+00 ... -6.31019841e-02\n",
      "   5.00079671e+00 -2.09457564e-05]\n",
      " [ 0.00000000e+00  0.00000000e+00  0.00000000e+00 ...  4.64313226e-07\n",
      "  -2.09457041e-05  5.00489954e+00]]\n",
      "[0. 0. 0. 0. 0. 0. 0. 0. 0. 0. 0. 0. 0. 0. 0. 0. 0. 0. 0. 0. 0. 0. 0. 0.\n",
      " 0. 0. 0. 0. 0. 0. 0. 0. 0. 0. 0. 0. 0. 0. 0. 0. 0.]\n"
     ]
    }
   ],
   "source": [
    "print(Minv)\n",
    "print(exitCodes)"
   ]
  },
  {
   "cell_type": "code",
   "execution_count": 17,
   "metadata": {},
   "outputs": [
    {
     "name": "stdout",
     "output_type": "stream",
     "text": [
      "True\n"
     ]
    }
   ],
   "source": [
    "print(np.allclose(invM, Minv))"
   ]
  }
 ],
 "metadata": {
  "kernelspec": {
   "display_name": "Python 3.8.10 64-bit",
   "language": "python",
   "name": "python3"
  },
  "language_info": {
   "codemirror_mode": {
    "name": "ipython",
    "version": 3
   },
   "file_extension": ".py",
   "mimetype": "text/x-python",
   "name": "python",
   "nbconvert_exporter": "python",
   "pygments_lexer": "ipython3",
   "version": "3.10.6"
  },
  "orig_nbformat": 4,
  "vscode": {
   "interpreter": {
    "hash": "916dbcbb3f70747c44a77c7bcd40155683ae19c65e1c03b4aa3499c5328201f1"
   }
  }
 },
 "nbformat": 4,
 "nbformat_minor": 2
}
