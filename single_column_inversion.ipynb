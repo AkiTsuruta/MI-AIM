{
 "cells": [
  {
   "cell_type": "code",
   "execution_count": null,
   "metadata": {},
   "outputs": [],
   "source": [
    "#imports\n",
    "\n",
    "import numpy as np\n",
    "import xarray as xr\n",
    "import scipy.sparse.linalg \n",
    "\n",
    "\n",
    "\n",
    "\n",
    "invm = np.linalg.inv\n",
    "gmres = scipy.sparse.linalg.gmres\n",
    "npsolve = np.linalg.solve\n",
    "\n",
    "ds_1 = xr.open_dataset(\"data/regions_verify_isotope_202112_cov.nc\")\n",
    "bio_1 = ds_1[\"covariance_bio\"]\n",
    "anth_1 = ds_1[\"covariance_anth\"]\n",
    "\n",
    "ds_2 = xr.open_dataset(\"data/regions_verify_202104_cov.nc\", chunks = 'auto')\n",
    "bio_2 = ds_2[\"covariance_bio\"]\n",
    "anth_2 = ds_2[\"covariance_anth\"]\n",
    "\n",
    "M = bio_2.values\n"
   ]
  },
  {
   "cell_type": "markdown",
   "metadata": {},
   "source": [
    "The \"real\" inverse\n",
    "--------------------"
   ]
  },
  {
   "cell_type": "code",
   "execution_count": null,
   "metadata": {},
   "outputs": [],
   "source": [
    "invM = invm(M)"
   ]
  },
  {
   "cell_type": "markdown",
   "metadata": {},
   "source": [
    "np.linalg.solve\n",
    "----------------\n",
    "* ainakin näyttäisi tulevan samat sarakevektorit, mutta se ei (kai) käytä GMRESiä"
   ]
  },
  {
   "cell_type": "code",
   "execution_count": null,
   "metadata": {},
   "outputs": [],
   "source": [
    "i = 4 #which column to solve\n",
    "e_i = np.zeros(len(M))\n",
    "e_i[i]= 1.\n",
    "\n",
    "s_i = np.linalg.solve(M, e_i)\n",
    "print(s_i)\n",
    "c_i = invM[:,i]\n",
    "\n",
    "print(np.allclose(c_i, s_i))"
   ]
  },
  {
   "cell_type": "markdown",
   "metadata": {},
   "source": [
    "scipy.sparse.linalg.gmres\n",
    "-----------------------------\n",
    "\n",
    "* needs a smaller tolerance than the default for the resulting vector to be close to the actual column of the inverse\n",
    "* A way to decrease the number of iterations is to use a preconditioner - maybe need to look into this if not fast enough!"
   ]
  },
  {
   "cell_type": "code",
   "execution_count": null,
   "metadata": {},
   "outputs": [],
   "source": [
    "g_i, exitCode = gmres(M,e_i, tol = 1e-12)\n",
    "\n",
    "print(g_i)\n",
    "print(exitCode)"
   ]
  },
  {
   "cell_type": "markdown",
   "metadata": {},
   "source": [
    "Comparison of times it takes to solve one column\n",
    "--------------------------------------------------\n",
    "\n",
    "* scipyn gmres a lot faster than numpy solve at least with tolerance 1e-12 or larger\n",
    "* not as exact though (if we presume invm computes the correct inverse. (It could also be that invm uses the same np.linalg.solve and that is the reason it gives the same column as solve)"
   ]
  },
  {
   "cell_type": "code",
   "execution_count": null,
   "metadata": {},
   "outputs": [],
   "source": [
    "i = 5 #which column to solve\n",
    "e_i = np.zeros(len(M))\n",
    "e_i[i]= 1.\n",
    "\n",
    "%timeit npsolve(M, e_i)\n",
    "%timeit gmres(M,e_i, tol = 1e-12)"
   ]
  }
 ],
 "metadata": {
  "kernelspec": {
   "display_name": "Python 3.10.6 64-bit",
   "language": "python",
   "name": "python3"
  },
  "language_info": {
   "name": "python",
   "version": "3.10.6"
  },
  "orig_nbformat": 4,
  "vscode": {
   "interpreter": {
    "hash": "916dbcbb3f70747c44a77c7bcd40155683ae19c65e1c03b4aa3499c5328201f1"
   }
  }
 },
 "nbformat": 4,
 "nbformat_minor": 2
}
